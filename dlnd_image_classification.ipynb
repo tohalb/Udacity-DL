{
 "cells": [
  {
   "cell_type": "markdown",
   "metadata": {
    "collapsed": true,
    "deletable": true,
    "editable": true
   },
   "source": [
    "# Image Classification\n",
    "In this project, you'll classify images from the [CIFAR-10 dataset](https://www.cs.toronto.edu/~kriz/cifar.html).  The dataset consists of airplanes, dogs, cats, and other objects. You'll preprocess the images, then train a convolutional neural network on all the samples. The images need to be normalized and the labels need to be one-hot encoded.  You'll get to apply what you learned and build a convolutional, max pooling, dropout, and fully connected layers.  At the end, you'll get to see your neural network's predictions on the sample images.\n",
    "## Get the Data\n",
    "Run the following cell to download the [CIFAR-10 dataset for python](https://www.cs.toronto.edu/~kriz/cifar-10-python.tar.gz)."
   ]
  },
  {
   "cell_type": "code",
   "execution_count": 67,
   "metadata": {
    "collapsed": false,
    "deletable": true,
    "editable": true
   },
   "outputs": [
    {
     "name": "stdout",
     "output_type": "stream",
     "text": [
      "All files found!\n"
     ]
    }
   ],
   "source": [
    "\"\"\"\n",
    "DON'T MODIFY ANYTHING IN THIS CELL THAT IS BELOW THIS LINE\n",
    "\"\"\"\n",
    "from urllib.request import urlretrieve\n",
    "from os.path import isfile, isdir\n",
    "from tqdm import tqdm\n",
    "import problem_unittests as tests\n",
    "import tarfile\n",
    "\n",
    "cifar10_dataset_folder_path = 'cifar-10-batches-py'\n",
    "\n",
    "class DLProgress(tqdm):\n",
    "    last_block = 0\n",
    "\n",
    "    def hook(self, block_num=1, block_size=1, total_size=None):\n",
    "        self.total = total_size\n",
    "        self.update((block_num - self.last_block) * block_size)\n",
    "        self.last_block = block_num\n",
    "\n",
    "if not isfile('cifar-10-python.tar.gz'):\n",
    "    with DLProgress(unit='B', unit_scale=True, miniters=1, desc='CIFAR-10 Dataset') as pbar:\n",
    "        urlretrieve(\n",
    "            'https://www.cs.toronto.edu/~kriz/cifar-10-python.tar.gz',\n",
    "            'cifar-10-python.tar.gz',\n",
    "            pbar.hook)\n",
    "\n",
    "if not isdir(cifar10_dataset_folder_path):\n",
    "    with tarfile.open('cifar-10-python.tar.gz') as tar:\n",
    "        tar.extractall()\n",
    "        tar.close()\n",
    "\n",
    "\n",
    "tests.test_folder_path(cifar10_dataset_folder_path)"
   ]
  },
  {
   "cell_type": "markdown",
   "metadata": {
    "deletable": true,
    "editable": true
   },
   "source": [
    "## Explore the Data\n",
    "The dataset is broken into batches to prevent your machine from running out of memory.  The CIFAR-10 dataset consists of 5 batches, named `data_batch_1`, `data_batch_2`, etc.. Each batch contains the labels and images that are one of the following:\n",
    "* airplane\n",
    "* automobile\n",
    "* bird\n",
    "* cat\n",
    "* deer\n",
    "* dog\n",
    "* frog\n",
    "* horse\n",
    "* ship\n",
    "* truck\n",
    "\n",
    "Understanding a dataset is part of making predictions on the data.  Play around with the code cell below by changing the `batch_id` and `sample_id`. The `batch_id` is the id for a batch (1-5). The `sample_id` is the id for a image and label pair in the batch.\n",
    "\n",
    "Ask yourself \"What are all possible labels?\", \"What is the range of values for the image data?\", \"Are the labels in order or random?\".  Answers to questions like these will help you preprocess the data and end up with better predictions."
   ]
  },
  {
   "cell_type": "code",
   "execution_count": 68,
   "metadata": {
    "collapsed": false,
    "deletable": true,
    "editable": true
   },
   "outputs": [
    {
     "name": "stdout",
     "output_type": "stream",
     "text": [
      "\n",
      "Stats of batch 1:\n",
      "Samples: 10000\n",
      "Label Counts: {0: 1005, 1: 974, 2: 1032, 3: 1016, 4: 999, 5: 937, 6: 1030, 7: 1001, 8: 1025, 9: 981}\n",
      "First 20 Labels: [6, 9, 9, 4, 1, 1, 2, 7, 8, 3, 4, 7, 7, 2, 9, 9, 9, 3, 2, 6]\n",
      "\n",
      "Example of Image 5:\n",
      "Image - Min Value: 0 Max Value: 252\n",
      "Image - Shape: (32, 32, 3)\n",
      "Label - Label Id: 1 Name: automobile\n"
     ]
    },
    {
     "data": {
      "image/png": "[encoded data removed]",
      "text/plain": [
       "<matplotlib.figure.Figure at 0x7f4dadcf6b00>"
      ]
     },
     "metadata": {
      "image/png": {
       "height": 250,
       "width": 253
      }
     },
     "output_type": "display_data"
    }
   ],
   "source": [
    "%matplotlib inline\n",
    "%config InlineBackend.figure_format = 'retina'\n",
    "\n",
    "import helper\n",
    "import numpy as np\n",
    "\n",
    "# Explore the dataset\n",
    "batch_id = 1\n",
    "sample_id = 5\n",
    "helper.display_stats(cifar10_dataset_folder_path, batch_id, sample_id)"
   ]
  },
  {
   "cell_type": "markdown",
   "metadata": {
    "deletable": true,
    "editable": true
   },
   "source": [
    "## Implement Preprocess Functions\n",
    "### Normalize\n",
    "In the cell below, implement the `normalize` function to take in image data, `x`, and return it as a normalized Numpy array. The values should be in the range of 0 to 1, inclusive.  The return object should be the same shape as `x`."
   ]
  },
  {
   "cell_type": "code",
   "execution_count": 69,
   "metadata": {
    "collapsed": false,
    "deletable": true,
    "editable": true
   },
   "outputs": [
    {
     "name": "stdout",
     "output_type": "stream",
     "text": [
      "Tests Passed\n"
     ]
    }
   ],
   "source": [
    "def normalize(x):\n",
    "    \"\"\"\n",
    "    Normalize a list of sample image data in the range of 0 to 1\n",
    "    : x: List of image data.  The image shape is (32, 32, 3)\n",
    "    : return: Numpy array of normalize data\n",
    "    \"\"\"\n",
    "    # TODO: Implement Function\n",
    "    return np.array((x) / (255))\n",
    "\n",
    "\"\"\"\n",
    "DON'T MODIFY ANYTHING IN THIS CELL THAT IS BELOW THIS LINE\n",
    "\"\"\"\n",
    "tests.test_normalize(normalize)"
   ]
  },
  {
   "cell_type": "markdown",
   "metadata": {
    "deletable": true,
    "editable": true
   },
   "source": [
    "### One-hot encode\n",
    "Just like the previous code cell, you'll be implementing a function for preprocessing.  This time, you'll implement the `one_hot_encode` function. The input, `x`, are a list of labels.  Implement the function to return the list of labels as One-Hot encoded Numpy array.  The possible values for labels are 0 to 9. The one-hot encoding function should return the same encoding for each value between each call to `one_hot_encode`.  Make sure to save the map of encodings outside the function.\n",
    "\n",
    "Hint: Don't reinvent the wheel."
   ]
  },
  {
   "cell_type": "code",
   "execution_count": 70,
   "metadata": {
    "collapsed": false,
    "deletable": true,
    "editable": true
   },
   "outputs": [
    {
     "name": "stdout",
     "output_type": "stream",
     "text": [
      "Tests Passed\n"
     ]
    }
   ],
   "source": [
    "def one_hot_encode(x):\n",
    "    \"\"\"\n",
    "    One hot encode a list of sample labels. Return a one-hot encoded vector for each label.\n",
    "    : x: List of sample Labels\n",
    "    : return: Numpy array of one-hot encoded labels\n",
    "    \"\"\"\n",
    "    # TODO: Implement Function\n",
    "    onehot = np.zeros((len(x), 10))\n",
    "\n",
    "    for row_idx in range(len(x)):\n",
    "        \n",
    "        onehot[row_idx][x[row_idx]] = 1\n",
    "\n",
    "    return onehot\n",
    "\n",
    "\n",
    "\"\"\"\n",
    "DON'T MODIFY ANYTHING IN THIS CELL THAT IS BELOW THIS LINE\n",
    "\"\"\"\n",
    "tests.test_one_hot_encode(one_hot_encode)"
   ]
  },
  {
   "cell_type": "markdown",
   "metadata": {
    "deletable": true,
    "editable": true
   },
   "source": [
    "### Randomize Data\n",
    "As you saw from exploring the data above, the order of the samples are randomized.  It doesn't hurt to randomize it again, but you don't need to for this dataset."
   ]
  },
  {
   "cell_type": "markdown",
   "metadata": {
    "deletable": true,
    "editable": true
   },
   "source": [
    "## Preprocess all the data and save it\n",
    "Running the code cell below will preprocess all the CIFAR-10 data and save it to file. The code below also uses 10% of the training data for validation."
   ]
  },
  {
   "cell_type": "code",
   "execution_count": 71,
   "metadata": {
    "collapsed": false,
    "deletable": true,
    "editable": true
   },
   "outputs": [],
   "source": [
    "\"\"\"\n",
    "DON'T MODIFY ANYTHING IN THIS CELL\n",
    "\"\"\"\n",
    "# Preprocess Training, Validation, and Testing Data\n",
    "helper.preprocess_and_save_data(cifar10_dataset_folder_path, normalize, one_hot_encode)"
   ]
  },
  {
   "cell_type": "markdown",
   "metadata": {
    "deletable": true,
    "editable": true
   },
   "source": [
    "# Check Point\n",
    "This is your first checkpoint.  If you ever decide to come back to this notebook or have to restart the notebook, you can start from here.  The preprocessed data has been saved to disk."
   ]
  },
  {
   "cell_type": "code",
   "execution_count": 72,
   "metadata": {
    "collapsed": true,
    "deletable": true,
    "editable": true
   },
   "outputs": [],
   "source": [
    "\"\"\"\n",
    "DON'T MODIFY ANYTHING IN THIS CELL\n",
    "\"\"\"\n",
    "import pickle\n",
    "import problem_unittests as tests\n",
    "import helper\n",
    "\n",
    "# Load the Preprocessed Validation data\n",
    "valid_features, valid_labels = pickle.load(open('preprocess_validation.p', mode='rb'))"
   ]
  },
  {
   "cell_type": "markdown",
   "metadata": {
    "deletable": true,
    "editable": true
   },
   "source": [
    "## Build the network\n",
    "For the neural network, you'll build each layer into a function.  Most of the code you've seen has been outside of functions. To test your code more thoroughly, we require that you put each layer in a function.  This allows us to give you better feedback and test for simple mistakes using our unittests before you submit your project.\n",
    "\n",
    ">**Note:** If you're finding it hard to dedicate enough time for this course each week, we've provided a small shortcut to this part of the project. In the next couple of problems, you'll have the option to use classes from the [TensorFlow Layers](https://www.tensorflow.org/api_docs/python/tf/layers) or [TensorFlow Layers (contrib)](https://www.tensorflow.org/api_guides/python/contrib.layers) packages to build each layer, except the layers you build in the \"Convolutional and Max Pooling Layer\" section.  TF Layers is similar to Keras's and TFLearn's abstraction to layers, so it's easy to pickup.\n",
    "\n",
    ">However, if you would like to get the most out of this course, try to solve all the problems _without_ using anything from the TF Layers packages. You **can** still use classes from other packages that happen to have the same name as ones you find in TF Layers! For example, instead of using the TF Layers version of the `conv2d` class, [tf.layers.conv2d](https://www.tensorflow.org/api_docs/python/tf/layers/conv2d), you would want to use the TF Neural Network version of `conv2d`, [tf.nn.conv2d](https://www.tensorflow.org/api_docs/python/tf/nn/conv2d). \n",
    "\n",
    "Let's begin!\n",
    "\n",
    "### Input\n",
    "The neural network needs to read the image data, one-hot encoded labels, and dropout keep probability. Implement the following functions\n",
    "* Implement `neural_net_image_input`\n",
    " * Return a [TF Placeholder](https://www.tensorflow.org/api_docs/python/tf/placeholder)\n",
    " * Set the shape using `image_shape` with batch size set to `None`.\n",
    " * Name the TensorFlow placeholder \"x\" using the TensorFlow `name` parameter in the [TF Placeholder](https://www.tensorflow.org/api_docs/python/tf/placeholder).\n",
    "* Implement `neural_net_label_input`\n",
    " * Return a [TF Placeholder](https://www.tensorflow.org/api_docs/python/tf/placeholder)\n",
    " * Set the shape using `n_classes` with batch size set to `None`.\n",
    " * Name the TensorFlow placeholder \"y\" using the TensorFlow `name` parameter in the [TF Placeholder](https://www.tensorflow.org/api_docs/python/tf/placeholder).\n",
    "* Implement `neural_net_keep_prob_input`\n",
    " * Return a [TF Placeholder](https://www.tensorflow.org/api_docs/python/tf/placeholder) for dropout keep probability.\n",
    " * Name the TensorFlow placeholder \"keep_prob\" using the TensorFlow `name` parameter in the [TF Placeholder](https://www.tensorflow.org/api_docs/python/tf/placeholder).\n",
    "\n",
    "These names will be used at the end of the project to load your saved model.\n",
    "\n",
    "Note: `None` for shapes in TensorFlow allow for a dynamic size."
   ]
  },
  {
   "cell_type": "code",
   "execution_count": 73,
   "metadata": {
    "collapsed": false,
    "deletable": true,
    "editable": true
   },
   "outputs": [
    {
     "name": "stdout",
     "output_type": "stream",
     "text": [
      "Image Input Tests Passed.\n",
      "Label Input Tests Passed.\n",
      "Keep Prob Tests Passed.\n"
     ]
    }
   ],
   "source": [
    "import tensorflow as tf\n",
    "\n",
    "def neural_net_image_input(image_shape):\n",
    "    \"\"\"\n",
    "    Return a Tensor for a bach of image input\n",
    "    : image_shape: Shape of the images\n",
    "    : return: Tensor for image input.\n",
    "    \"\"\"\n",
    "    # TODO: Implement Function\n",
    "    #Meaningful parameter names\n",
    "    image_width = image_shape[0]\n",
    "    image_height = image_shape[1]\n",
    "    color_channels = image_shape[2]\n",
    "    \n",
    "    input_image = tf.placeholder(\n",
    "    tf.float32,\n",
    "    shape=[None, image_height, image_width, color_channels], name = 'x')\n",
    "    return input_image\n",
    "\n",
    "\n",
    "def neural_net_label_input(n_classes):\n",
    "    \"\"\"\n",
    "    Return a Tensor for a batch of label input\n",
    "    : n_classes: Number of classes\n",
    "    : return: Tensor for label input.\n",
    "    \"\"\"\n",
    "    # TODO: Implement Function\n",
    "    #Meaningful parameter names\n",
    "    num_labels = n_classes\n",
    "    batch_size = None\n",
    "    # TODO: Implement Function\n",
    "    input_label = tf.placeholder(\n",
    "    tf.float32,\n",
    "    shape=[batch_size, num_labels], name = 'y')\n",
    "    return input_label\n",
    "\n",
    "\n",
    "def neural_net_keep_prob_input():\n",
    "    \"\"\"\n",
    "    Return a Tensor for keep probability\n",
    "    : return: Tensor for keep probability.\n",
    "    \"\"\"\n",
    "    # TODO: Implement Function\n",
    "    return tf.placeholder(tf.float32, name='keep_prob')\n",
    "\n",
    "\n",
    "\"\"\"\n",
    "DON'T MODIFY ANYTHING IN THIS CELL THAT IS BELOW THIS LINE\n",
    "\"\"\"\n",
    "tf.reset_default_graph()\n",
    "tests.test_nn_image_inputs(neural_net_image_input)\n",
    "tests.test_nn_label_inputs(neural_net_label_input)\n",
    "tests.test_nn_keep_prob_inputs(neural_net_keep_prob_input)"
   ]
  },
  {
   "cell_type": "markdown",
   "metadata": {
    "deletable": true,
    "editable": true
   },
   "source": [
    "### Convolution and Max Pooling Layer\n",
    "Convolution layers have a lot of success with images. For this code cell, you should implement the function `conv2d_maxpool` to apply convolution then max pooling:\n",
    "* Create the weight and bias using `conv_ksize`, `conv_num_outputs` and the shape of `x_tensor`.\n",
    "* Apply a convolution to `x_tensor` using weight and `conv_strides`.\n",
    " * We recommend you use same padding, but you're welcome to use any padding.\n",
    "* Add bias\n",
    "* Add a nonlinear activation to the convolution.\n",
    "* Apply Max Pooling using `pool_ksize` and `pool_strides`.\n",
    " * We recommend you use same padding, but you're welcome to use any padding.\n",
    "\n",
    "**Note:** You **can't** use [TensorFlow Layers](https://www.tensorflow.org/api_docs/python/tf/layers) or [TensorFlow Layers (contrib)](https://www.tensorflow.org/api_guides/python/contrib.layers) for **this** layer, but you can still use TensorFlow's [Neural Network](https://www.tensorflow.org/api_docs/python/tf/nn) package. You may still use the shortcut option for all the **other** layers."
   ]
  },
  {
   "cell_type": "code",
   "execution_count": 74,
   "metadata": {
    "collapsed": false,
    "deletable": true,
    "editable": true
   },
   "outputs": [
    {
     "name": "stdout",
     "output_type": "stream",
     "text": [
      "Tests Passed\n"
     ]
    }
   ],
   "source": [
    "def conv2d_maxpool(x_tensor, conv_num_outputs, conv_ksize, conv_strides, pool_ksize, pool_strides):\n",
    "    \"\"\"\n",
    "    Apply convolution then max pooling to x_tensor\n",
    "    :param x_tensor: TensorFlow Tensor\n",
    "    :param conv_num_outputs: Number of outputs for the convolutional layer\n",
    "    :param conv_ksize: kernal size 2-D Tuple for the convolutional layer\n",
    "    :param conv_strides: Stride 2-D Tuple for convolution\n",
    "    :param pool_ksize: kernal size 2-D Tuple for pool\n",
    "    :param pool_strides: Stride 2-D Tuple for pool\n",
    "    : return: A tensor that represents convolution and max pooling of x_tensor\n",
    "    \"\"\"\n",
    "    # TODO: Implement Function\n",
    "    depth = int(x_tensor.get_shape()[3])\n",
    "    # weights - random but limit with stddev\n",
    "    weight = tf.Variable(tf.truncated_normal([*conv_ksize, depth, conv_num_outputs], dtype=tf.float32, stddev=0.05))\n",
    "    #bias - set to zero\n",
    "    bias = tf.Variable(tf.constant(0, shape=[conv_num_outputs], dtype=tf.float32))\n",
    "    padding = 'SAME'\n",
    "    \n",
    "    #conv1 = tf.nn.conv2d(x_tensor, weight, strides=[1,*conv_strides,1],padding='SAME')\n",
    "    conv1 = tf.nn.relu(tf.nn.bias_add(tf.nn.conv2d(x_tensor, weight, strides=[1,*conv_strides,1],padding='SAME'), bias)) #Added relu here on feedback\n",
    "\n",
    "    #conv1 = tf.nn.bias_add(conv1, bias)\n",
    "    \n",
    "    #conv1 = tf.nn.relu(conv1) #relu slows learning, but nonlinear needs to be added\n",
    "    \n",
    "    conv1 = tf.nn.max_pool(\n",
    "        conv1,\n",
    "        [1, *pool_ksize, 1], \n",
    "        strides = [1,*pool_strides, 1],\n",
    "        padding ='SAME')\n",
    "\n",
    "    return conv1\n",
    "\n",
    "\n",
    "\"\"\"\n",
    "DON'T MODIFY ANYTHING IN THIS CELL THAT IS BELOW THIS LINE\n",
    "\"\"\"\n",
    "tests.test_con_pool(conv2d_maxpool)"
   ]
  },
  {
   "cell_type": "markdown",
   "metadata": {
    "deletable": true,
    "editable": true
   },
   "source": [
    "### Flatten Layer\n",
    "Implement the `flatten` function to change the dimension of `x_tensor` from a 4-D tensor to a 2-D tensor.  The output should be the shape (*Batch Size*, *Flattened Image Size*). Shortcut option: you can use classes from the [TensorFlow Layers](https://www.tensorflow.org/api_docs/python/tf/layers) or [TensorFlow Layers (contrib)](https://www.tensorflow.org/api_guides/python/contrib.layers) packages for this layer. For more of a challenge, only use other TensorFlow packages."
   ]
  },
  {
   "cell_type": "code",
   "execution_count": 75,
   "metadata": {
    "collapsed": false,
    "deletable": true,
    "editable": true
   },
   "outputs": [
    {
     "name": "stdout",
     "output_type": "stream",
     "text": [
      "Tests Passed\n"
     ]
    }
   ],
   "source": [
    "def flatten(x_tensor):\n",
    "    \"\"\"\n",
    "    Flatten x_tensor to (Batch Size, Flattened Image Size)\n",
    "    : x_tensor: A tensor of size (Batch Size, ...), where ... are the image dimensions.\n",
    "    : return: A tensor of size (Batch Size, Flattened Image Size).\n",
    "    \"\"\"\n",
    "    # TODO: Implement Function\n",
    "    batch_size = x_tensor.get_shape().as_list()[0]\n",
    "    height = x_tensor.get_shape().as_list()[1]\n",
    "    width = x_tensor.get_shape().as_list()[2]\n",
    "    depth = x_tensor.get_shape().as_list()[3]\n",
    "    \n",
    "    #Use -1 to replace batch_size, which is None\n",
    "    flattened = tf.reshape(x_tensor, [-1, width * height * depth])\n",
    "    return flattened\n",
    "\n",
    "\n",
    "\"\"\"\n",
    "DON'T MODIFY ANYTHING IN THIS CELL THAT IS BELOW THIS LINE\n",
    "\"\"\"\n",
    "tests.test_flatten(flatten)"
   ]
  },
  {
   "cell_type": "markdown",
   "metadata": {
    "deletable": true,
    "editable": true
   },
   "source": [
    "### Fully-Connected Layer\n",
    "Implement the `fully_conn` function to apply a fully connected layer to `x_tensor` with the shape (*Batch Size*, *num_outputs*). Shortcut option: you can use classes from the [TensorFlow Layers](https://www.tensorflow.org/api_docs/python/tf/layers) or [TensorFlow Layers (contrib)](https://www.tensorflow.org/api_guides/python/contrib.layers) packages for this layer. For more of a challenge, only use other TensorFlow packages."
   ]
  },
  {
   "cell_type": "code",
   "execution_count": 76,
   "metadata": {
    "collapsed": false,
    "deletable": true,
    "editable": true
   },
   "outputs": [
    {
     "name": "stdout",
     "output_type": "stream",
     "text": [
      "Tests Passed\n"
     ]
    }
   ],
   "source": [
    "def fully_conn(x_tensor, num_outputs):\n",
    "    \"\"\"\n",
    "    Apply a fully connected layer to x_tensor using weight and bias\n",
    "    : x_tensor: A 2-D tensor where the first dimension is batch size.\n",
    "    : num_outputs: The number of output that the new tensor should be.\n",
    "    : return: A 2-D tensor where the second dimension is num_outputs.\n",
    "    \"\"\"\n",
    "    # TODO: Implement Function\n",
    "    #Layers version:\n",
    "    #full_con = tf.layers.dense(inputs=x_tensor, units=num_outputs, activation=tf.nn.relu)\n",
    "    \n",
    "    #Tensorflow Version\n",
    "    #full_con = tf.nn.relu(tf.reshape(x_tensor,[-1,num_outputs]))\n",
    "    \n",
    "    #return full_con\n",
    "    num_inputs = int(x_tensor.get_shape()[1])\n",
    "    # weights - random - stdev=0.1 and 0.05 in many examples\n",
    "    weights = tf.Variable(tf.truncated_normal([num_inputs, num_outputs], dtype=tf.float32, stddev=0.05))\n",
    "    #bias - make zero to start\n",
    "    biases = tf.Variable(tf.constant(0, shape=[num_outputs], dtype=tf.float32))\n",
    "    return tf.nn.relu(tf.add(tf.matmul(x_tensor, weights), biases)) # Re-instated relu on feedback - again need non-linear activation\n",
    "\n",
    "\n",
    "\"\"\"\n",
    "DON'T MODIFY ANYTHING IN THIS CELL THAT IS BELOW THIS LINE\n",
    "\"\"\"\n",
    "tests.test_fully_conn(fully_conn)"
   ]
  },
  {
   "cell_type": "markdown",
   "metadata": {
    "deletable": true,
    "editable": true
   },
   "source": [
    "### Output Layer\n",
    "Implement the `output` function to apply a fully connected layer to `x_tensor` with the shape (*Batch Size*, *num_outputs*). Shortcut option: you can use classes from the [TensorFlow Layers](https://www.tensorflow.org/api_docs/python/tf/layers) or [TensorFlow Layers (contrib)](https://www.tensorflow.org/api_guides/python/contrib.layers) packages for this layer. For more of a challenge, only use other TensorFlow packages.\n",
    "\n",
    "**Note:** Activation, softmax, or cross entropy should **not** be applied to this."
   ]
  },
  {
   "cell_type": "code",
   "execution_count": 77,
   "metadata": {
    "collapsed": false,
    "deletable": true,
    "editable": true
   },
   "outputs": [
    {
     "name": "stdout",
     "output_type": "stream",
     "text": [
      "Tests Passed\n"
     ]
    }
   ],
   "source": [
    "def output(x_tensor, num_outputs):\n",
    "    \"\"\"\n",
    "    Apply a output layer to x_tensor using weight and bias\n",
    "    : x_tensor: A 2-D tensor where the first dimension is batch size.\n",
    "    : num_outputs: The number of output that the new tensor should be.\n",
    "    : return: A 2-D tensor where the second dimension is num_outputs.\n",
    "    \"\"\"\n",
    "    # TODO: Implement Function\n",
    "    #Layers version:\n",
    "    #output = tf.layers.dense(inputs=x_tensor, units=num_outputs, activation=tf.sigmoid)\n",
    "    \n",
    "    #output = tf.sigmoid(tf.reshape(x_tensor,[-1,num_outputs]))\n",
    "    \n",
    "    # relu seems to help validation results\n",
    "    output = tf.reshape(x_tensor,[-1,num_outputs])  #Removed relu on feedback - raw logits required\n",
    "    #output = fully_conn(x_tensor, num_outputs)\n",
    "    return output\n",
    "\n",
    "\n",
    "\"\"\"\n",
    "DON'T MODIFY ANYTHING IN THIS CELL THAT IS BELOW THIS LINE\n",
    "\"\"\"\n",
    "tests.test_output(output)"
   ]
  },
  {
   "cell_type": "markdown",
   "metadata": {
    "deletable": true,
    "editable": true
   },
   "source": [
    "### Create Convolutional Model\n",
    "Implement the function `conv_net` to create a convolutional neural network model. The function takes in a batch of images, `x`, and outputs logits.  Use the layers you created above to create this model:\n",
    "\n",
    "* Apply 1, 2, or 3 Convolution and Max Pool layers\n",
    "* Apply a Flatten Layer\n",
    "* Apply 1, 2, or 3 Fully Connected Layers\n",
    "* Apply an Output Layer\n",
    "* Return the output\n",
    "* Apply [TensorFlow's Dropout](https://www.tensorflow.org/api_docs/python/tf/nn/dropout) to one or more layers in the model using `keep_prob`. "
   ]
  },
  {
   "cell_type": "code",
   "execution_count": 78,
   "metadata": {
    "collapsed": false,
    "deletable": true,
    "editable": true
   },
   "outputs": [
    {
     "name": "stdout",
     "output_type": "stream",
     "text": [
      "Neural Network Built!\n"
     ]
    }
   ],
   "source": [
    "def conv_net(x, keep_prob):\n",
    "    \"\"\"\n",
    "    Create a convolutional neural network model\n",
    "    : x: Placeholder tensor that holds image data.\n",
    "    : keep_prob: Placeholder tensor that hold dropout keep probability.\n",
    "    : return: Tensor that represents logits\n",
    "    \"\"\"\n",
    "    conv_num_outputs=10\n",
    "    conv_ksize= (3, 3)    # 2,2 does not seem to learn well - not enough coverage\n",
    "    conv_strides = (1, 1) # stride to one for better coverage of pixels\n",
    "    pool_ksize = (2, 2)\n",
    "    pool_strides = (2, 2)\n",
    "        \n",
    "        \n",
    "    conv1 = conv2d_maxpool(x, conv_num_outputs, conv_ksize, conv_strides, pool_ksize, pool_strides)\n",
    "    \n",
    "    #conv1 = tf.nn.dropout(conv1, keep_prob)\n",
    "    \n",
    "    # extra layer befor dropout seems to marginally help learning rate\n",
    "    conv2= conv2d_maxpool(conv1, conv_num_outputs, conv_ksize, conv_strides, pool_ksize, pool_strides)\n",
    "    \n",
    "    #conv2 = tf.nn.dropout(conv1, keep_prob)\n",
    "    conv2 = tf.nn.dropout(conv2, keep_prob)\n",
    "    \n",
    "    #conv2= conv2d_maxpool(conv2, conv_num_outputs, conv_ksize, conv_strides, pool_ksize, pool_strides)\n",
    "    \n",
    "    #conv2 = conv1\n",
    "    \n",
    "    # TODO: Apply a Flatten Layer\n",
    "    # Function Definition from Above:\n",
    "    #   flatten(x_tensor)\n",
    "    \n",
    "    conv3 = flatten(conv2)\n",
    "\n",
    "    # TODO: Apply 1, 2, or 3 Fully Connected Layers\n",
    "    #    Play around with different number of outputs\n",
    "    # Function Definition from Above:\n",
    "    #   fully_conn(x_tensor, num_outputs)\n",
    "    \n",
    "    conv4 = fully_conn(conv3, conv_num_outputs)\n",
    "    \n",
    "    \n",
    "    # TODO: Apply an Output Layer\n",
    "    #    Set this to the number of classes\n",
    "    # Function Definition from Above:\n",
    "    #   output(x_tensor, num_outputs)\n",
    "    \n",
    "    conv5 = output(conv4, conv_num_outputs)\n",
    "    \n",
    "    # TODO: return output\n",
    "    return conv5\n",
    "\n",
    "\n",
    "\"\"\"\n",
    "DON'T MODIFY ANYTHING IN THIS CELL THAT IS BELOW THIS LINE\n",
    "\"\"\"\n",
    "\n",
    "##############################\n",
    "## Build the Neural Network ##\n",
    "##############################\n",
    "\n",
    "# Remove previous weights, bias, inputs, etc..\n",
    "tf.reset_default_graph()\n",
    "\n",
    "# Inputs\n",
    "x = neural_net_image_input((32, 32, 3))\n",
    "y = neural_net_label_input(10)\n",
    "keep_prob = neural_net_keep_prob_input()\n",
    "\n",
    "# Model\n",
    "logits = conv_net(x, keep_prob)\n",
    "\n",
    "# Name logits Tensor, so that is can be loaded from disk after training\n",
    "logits = tf.identity(logits, name='logits')\n",
    "\n",
    "# Loss and Optimizer\n",
    "cost = tf.reduce_mean(tf.nn.softmax_cross_entropy_with_logits(logits=logits, labels=y))\n",
    "optimizer = tf.train.AdamOptimizer().minimize(cost)\n",
    "\n",
    "# Accuracy\n",
    "correct_pred = tf.equal(tf.argmax(logits, 1), tf.argmax(y, 1))\n",
    "accuracy = tf.reduce_mean(tf.cast(correct_pred, tf.float32), name='accuracy')\n",
    "\n",
    "tests.test_conv_net(conv_net)"
   ]
  },
  {
   "cell_type": "markdown",
   "metadata": {
    "deletable": true,
    "editable": true
   },
   "source": [
    "## Train the Neural Network\n",
    "### Single Optimization\n",
    "Implement the function `train_neural_network` to do a single optimization.  The optimization should use `optimizer` to optimize in `session` with a `feed_dict` of the following:\n",
    "* `x` for image input\n",
    "* `y` for labels\n",
    "* `keep_prob` for keep probability for dropout\n",
    "\n",
    "This function will be called for each batch, so `tf.global_variables_initializer()` has already been called.\n",
    "\n",
    "Note: Nothing needs to be returned. This function is only optimizing the neural network."
   ]
  },
  {
   "cell_type": "code",
   "execution_count": 79,
   "metadata": {
    "collapsed": false,
    "deletable": true,
    "editable": true
   },
   "outputs": [
    {
     "name": "stdout",
     "output_type": "stream",
     "text": [
      "Tests Passed\n"
     ]
    }
   ],
   "source": [
    "def train_neural_network(session, optimizer, keep_probability, feature_batch, label_batch):\n",
    "    \"\"\"\n",
    "    Optimize the session on a batch of images and labels\n",
    "    : session: Current TensorFlow session\n",
    "    : optimizer: TensorFlow optimizer function\n",
    "    : keep_probability: keep probability\n",
    "    : feature_batch: Batch of Numpy image data\n",
    "    : label_batch: Batch of Numpy label data\n",
    "    \"\"\"\n",
    "    # TODO: Implement Function\n",
    "    train_dict={x : feature_batch, y : label_batch, keep_prob : keep_probability}\n",
    "\n",
    "    session.run(optimizer,feed_dict=train_dict)\n",
    "    #pass\n",
    "\n",
    "\n",
    "\"\"\"\n",
    "DON'T MODIFY ANYTHING IN THIS CELL THAT IS BELOW THIS LINE\n",
    "\"\"\"\n",
    "tests.test_train_nn(train_neural_network)"
   ]
  },
  {
   "cell_type": "markdown",
   "metadata": {
    "deletable": true,
    "editable": true
   },
   "source": [
    "### Show Stats\n",
    "Implement the function `print_stats` to print loss and validation accuracy.  Use the global variables `valid_features` and `valid_labels` to calculate validation accuracy.  Use a keep probability of `1.0` to calculate the loss and validation accuracy."
   ]
  },
  {
   "cell_type": "code",
   "execution_count": 80,
   "metadata": {
    "collapsed": false,
    "deletable": true,
    "editable": true
   },
   "outputs": [],
   "source": [
    "def print_stats(session, feature_batch, label_batch, cost, accuracy):\n",
    "    \"\"\"\n",
    "    Print information about loss and validation accuracy\n",
    "    : session: Current TensorFlow session\n",
    "    : feature_batch: Batch of Numpy image data\n",
    "    : label_batch: Batch of Numpy label data\n",
    "    : cost: TensorFlow cost function\n",
    "    : accuracy: TensorFlow accuracy function\n",
    "    \"\"\"\n",
    "    # TODO: Implement Function\n",
    "    #Check training accuracy correct? Good to compare with validation as check for overfit\n",
    "    training_accuracy = session.run(accuracy, feed_dict={x: feature_batch, y: label_batch, keep_prob: 1.0})\n",
    "    training_cost = session.run(cost, feed_dict={x: feature_batch, y: label_batch, keep_prob: 1.0})\n",
    "    \n",
    "    validation_accuracy = session.run(accuracy, feed_dict={x: valid_features, y: valid_labels, keep_prob: 1.0})\n",
    "    validation_cost = session.run(cost, feed_dict={x: valid_features, y: valid_labels, keep_prob: 1.0})\n",
    "    \n",
    "    print(\"Train Acc: {:0.4f}, Train Cost: {:0.4f}\\tValid Acc: {:0.4f}, Valid Cost: {:0.4f}\"\n",
    "          .format(training_accuracy, training_cost, validation_accuracy, validation_cost))\n",
    "    "
   ]
  },
  {
   "cell_type": "markdown",
   "metadata": {
    "deletable": true,
    "editable": true
   },
   "source": [
    "### Hyperparameters\n",
    "Tune the following parameters:\n",
    "* Set `epochs` to the number of iterations until the network stops learning or start overfitting\n",
    "* Set `batch_size` to the highest number that your machine has memory for.  Most people set them to common sizes of memory:\n",
    " * 64\n",
    " * 128\n",
    " * 256\n",
    " * ...\n",
    "* Set `keep_probability` to the probability of keeping a node using dropout"
   ]
  },
  {
   "cell_type": "code",
   "execution_count": 89,
   "metadata": {
    "collapsed": true,
    "deletable": true,
    "editable": true
   },
   "outputs": [],
   "source": [
    "# TODO: Tune Parameters\n",
    "epochs = 65\n",
    "batch_size = 256\n",
    "keep_probability = 0.65"
   ]
  },
  {
   "cell_type": "markdown",
   "metadata": {
    "deletable": true,
    "editable": true
   },
   "source": [
    "### Train on a Single CIFAR-10 Batch\n",
    "Instead of training the neural network on all the CIFAR-10 batches of data, let's use a single batch. This should save time while you iterate on the model to get a better accuracy.  Once the final validation accuracy is 50% or greater, run the model on all the data in the next section."
   ]
  },
  {
   "cell_type": "code",
   "execution_count": 90,
   "metadata": {
    "collapsed": false,
    "deletable": true,
    "editable": true
   },
   "outputs": [
    {
     "name": "stdout",
     "output_type": "stream",
     "text": [
      "Checking the Training on a Single Batch...\n",
      "Epoch  1, CIFAR-10 Batch 1:  Train Acc: 0.1000, Train Cost: 2.2907\tValid Acc: 0.1406, Valid Cost: 2.2484\n",
      "Epoch  2, CIFAR-10 Batch 1:  Train Acc: 0.2000, Train Cost: 2.1975\tValid Acc: 0.3028, Valid Cost: 2.0673\n",
      "Epoch  3, CIFAR-10 Batch 1:  Train Acc: 0.2500, Train Cost: 2.1559\tValid Acc: 0.3228, Valid Cost: 2.0135\n",
      "Epoch  4, CIFAR-10 Batch 1:  Train Acc: 0.1750, Train Cost: 2.1105\tValid Acc: 0.3380, Valid Cost: 1.9711\n",
      "Epoch  5, CIFAR-10 Batch 1:  Train Acc: 0.2500, Train Cost: 2.0589\tValid Acc: 0.3496, Valid Cost: 1.9353\n",
      "Epoch  6, CIFAR-10 Batch 1:  Train Acc: 0.3000, Train Cost: 2.0124\tValid Acc: 0.3622, Valid Cost: 1.8965\n",
      "Epoch  7, CIFAR-10 Batch 1:  Train Acc: 0.3250, Train Cost: 1.9668\tValid Acc: 0.3702, Valid Cost: 1.8661\n",
      "Epoch  8, CIFAR-10 Batch 1:  Train Acc: 0.3500, Train Cost: 1.9370\tValid Acc: 0.3750, Valid Cost: 1.8506\n",
      "Epoch  9, CIFAR-10 Batch 1:  Train Acc: 0.4000, Train Cost: 1.9007\tValid Acc: 0.3840, Valid Cost: 1.8222\n",
      "Epoch 10, CIFAR-10 Batch 1:  Train Acc: 0.4000, Train Cost: 1.8755\tValid Acc: 0.3880, Valid Cost: 1.8050\n",
      "Epoch 11, CIFAR-10 Batch 1:  Train Acc: 0.4500, Train Cost: 1.8407\tValid Acc: 0.3862, Valid Cost: 1.7957\n",
      "Epoch 12, CIFAR-10 Batch 1:  Train Acc: 0.5000, Train Cost: 1.8774\tValid Acc: 0.4098, Valid Cost: 1.7375\n",
      "Epoch 13, CIFAR-10 Batch 1:  Train Acc: 0.5250, Train Cost: 1.8408\tValid Acc: 0.4166, Valid Cost: 1.7109\n",
      "Epoch 14, CIFAR-10 Batch 1:  Train Acc: 0.5250, Train Cost: 1.8330\tValid Acc: 0.4202, Valid Cost: 1.7032\n",
      "Epoch 15, CIFAR-10 Batch 1:  Train Acc: 0.5250, Train Cost: 1.8068\tValid Acc: 0.4240, Valid Cost: 1.7001\n",
      "Epoch 16, CIFAR-10 Batch 1:  Train Acc: 0.5250, Train Cost: 1.7739\tValid Acc: 0.4260, Valid Cost: 1.6902\n",
      "Epoch 17, CIFAR-10 Batch 1:  Train Acc: 0.5250, Train Cost: 1.7588\tValid Acc: 0.4362, Valid Cost: 1.6696\n",
      "Epoch 18, CIFAR-10 Batch 1:  Train Acc: 0.5250, Train Cost: 1.7306\tValid Acc: 0.4374, Valid Cost: 1.6669\n",
      "Epoch 19, CIFAR-10 Batch 1:  Train Acc: 0.5250, Train Cost: 1.7096\tValid Acc: 0.4388, Valid Cost: 1.6610\n",
      "Epoch 20, CIFAR-10 Batch 1:  Train Acc: 0.5500, Train Cost: 1.6912\tValid Acc: 0.4386, Valid Cost: 1.6636\n",
      "Epoch 21, CIFAR-10 Batch 1:  Train Acc: 0.5500, Train Cost: 1.6472\tValid Acc: 0.4354, Valid Cost: 1.6638\n",
      "Epoch 22, CIFAR-10 Batch 1:  Train Acc: 0.5750, Train Cost: 1.6426\tValid Acc: 0.4454, Valid Cost: 1.6472\n",
      "Epoch 23, CIFAR-10 Batch 1:  Train Acc: 0.5500, Train Cost: 1.6132\tValid Acc: 0.4428, Valid Cost: 1.6510\n",
      "Epoch 24, CIFAR-10 Batch 1:  Train Acc: 0.6000, Train Cost: 1.5935\tValid Acc: 0.4464, Valid Cost: 1.6391\n",
      "Epoch 25, CIFAR-10 Batch 1:  Train Acc: 0.6250, Train Cost: 1.5743\tValid Acc: 0.4518, Valid Cost: 1.6218\n",
      "Epoch 26, CIFAR-10 Batch 1:  Train Acc: 0.6000, Train Cost: 1.5370\tValid Acc: 0.4506, Valid Cost: 1.6226\n",
      "Epoch 27, CIFAR-10 Batch 1:  Train Acc: 0.5750, Train Cost: 1.5307\tValid Acc: 0.4508, Valid Cost: 1.6264\n",
      "Epoch 28, CIFAR-10 Batch 1:  Train Acc: 0.6250, Train Cost: 1.5246\tValid Acc: 0.4546, Valid Cost: 1.6174\n",
      "Epoch 29, CIFAR-10 Batch 1:  Train Acc: 0.6500, Train Cost: 1.4921\tValid Acc: 0.4572, Valid Cost: 1.6048\n",
      "Epoch 30, CIFAR-10 Batch 1:  Train Acc: 0.6000, Train Cost: 1.4742\tValid Acc: 0.4552, Valid Cost: 1.6033\n",
      "Epoch 31, CIFAR-10 Batch 1:  Train Acc: 0.6250, Train Cost: 1.4603\tValid Acc: 0.4588, Valid Cost: 1.5957\n",
      "Epoch 32, CIFAR-10 Batch 1:  Train Acc: 0.6000, Train Cost: 1.4539\tValid Acc: 0.4582, Valid Cost: 1.5917\n",
      "Epoch 33, CIFAR-10 Batch 1:  Train Acc: 0.6500, Train Cost: 1.4116\tValid Acc: 0.4678, Valid Cost: 1.5753\n",
      "Epoch 34, CIFAR-10 Batch 1:  Train Acc: 0.6500, Train Cost: 1.4024\tValid Acc: 0.4672, Valid Cost: 1.5759\n",
      "Epoch 35, CIFAR-10 Batch 1:  Train Acc: 0.6250, Train Cost: 1.4126\tValid Acc: 0.4644, Valid Cost: 1.5832\n",
      "Epoch 36, CIFAR-10 Batch 1:  Train Acc: 0.6250, Train Cost: 1.3945\tValid Acc: 0.4744, Valid Cost: 1.5605\n",
      "Epoch 37, CIFAR-10 Batch 1:  Train Acc: 0.6500, Train Cost: 1.3765\tValid Acc: 0.4696, Valid Cost: 1.5699\n",
      "Epoch 38, CIFAR-10 Batch 1:  Train Acc: 0.6250, Train Cost: 1.3626\tValid Acc: 0.4744, Valid Cost: 1.5591\n",
      "Epoch 39, CIFAR-10 Batch 1:  Train Acc: 0.6500, Train Cost: 1.3414\tValid Acc: 0.4778, Valid Cost: 1.5506\n",
      "Epoch 40, CIFAR-10 Batch 1:  Train Acc: 0.6500, Train Cost: 1.3271\tValid Acc: 0.4834, Valid Cost: 1.5384\n",
      "Epoch 41, CIFAR-10 Batch 1:  Train Acc: 0.6250, Train Cost: 1.3169\tValid Acc: 0.4852, Valid Cost: 1.5366\n",
      "Epoch 42, CIFAR-10 Batch 1:  Train Acc: 0.6500, Train Cost: 1.3314\tValid Acc: 0.4820, Valid Cost: 1.5410\n",
      "Epoch 43, CIFAR-10 Batch 1:  Train Acc: 0.6250, Train Cost: 1.3153\tValid Acc: 0.4818, Valid Cost: 1.5355\n",
      "Epoch 44, CIFAR-10 Batch 1:  Train Acc: 0.6500, Train Cost: 1.3151\tValid Acc: 0.4840, Valid Cost: 1.5292\n",
      "Epoch 45, CIFAR-10 Batch 1:  Train Acc: 0.6500, Train Cost: 1.2948\tValid Acc: 0.4866, Valid Cost: 1.5291\n",
      "Epoch 46, CIFAR-10 Batch 1:  Train Acc: 0.6500, Train Cost: 1.2942\tValid Acc: 0.4878, Valid Cost: 1.5289\n",
      "Epoch 47, CIFAR-10 Batch 1:  Train Acc: 0.6750, Train Cost: 1.2821\tValid Acc: 0.4930, Valid Cost: 1.5149\n",
      "Epoch 48, CIFAR-10 Batch 1:  Train Acc: 0.6500, Train Cost: 1.2541\tValid Acc: 0.4922, Valid Cost: 1.5112\n",
      "Epoch 49, CIFAR-10 Batch 1:  Train Acc: 0.7000, Train Cost: 1.2364\tValid Acc: 0.5004, Valid Cost: 1.5001\n",
      "Epoch 50, CIFAR-10 Batch 1:  Train Acc: 0.6750, Train Cost: 1.2162\tValid Acc: 0.5006, Valid Cost: 1.4936\n",
      "Epoch 51, CIFAR-10 Batch 1:  Train Acc: 0.7000, Train Cost: 1.2132\tValid Acc: 0.5004, Valid Cost: 1.4918\n",
      "Epoch 52, CIFAR-10 Batch 1:  Train Acc: 0.6750, Train Cost: 1.2129\tValid Acc: 0.5024, Valid Cost: 1.4936\n",
      "Epoch 53, CIFAR-10 Batch 1:  Train Acc: 0.6500, Train Cost: 1.2073\tValid Acc: 0.5042, Valid Cost: 1.4869\n",
      "Epoch 54, CIFAR-10 Batch 1:  Train Acc: 0.6750, Train Cost: 1.2090\tValid Acc: 0.5014, Valid Cost: 1.4895\n",
      "Epoch 55, CIFAR-10 Batch 1:  Train Acc: 0.6500, Train Cost: 1.1844\tValid Acc: 0.5022, Valid Cost: 1.4898\n",
      "Epoch 56, CIFAR-10 Batch 1:  Train Acc: 0.6750, Train Cost: 1.1690\tValid Acc: 0.5066, Valid Cost: 1.4843\n",
      "Epoch 57, CIFAR-10 Batch 1:  Train Acc: 0.6750, Train Cost: 1.1714\tValid Acc: 0.5050, Valid Cost: 1.4801\n",
      "Epoch 58, CIFAR-10 Batch 1:  Train Acc: 0.7000, Train Cost: 1.1527\tValid Acc: 0.5068, Valid Cost: 1.4714\n",
      "Epoch 59, CIFAR-10 Batch 1:  Train Acc: 0.6750, Train Cost: 1.1455\tValid Acc: 0.5024, Valid Cost: 1.4781\n",
      "Epoch 60, CIFAR-10 Batch 1:  Train Acc: 0.6750, Train Cost: 1.1438\tValid Acc: 0.5102, Valid Cost: 1.4699\n",
      "Epoch 61, CIFAR-10 Batch 1:  Train Acc: 0.6750, Train Cost: 1.1493\tValid Acc: 0.5114, Valid Cost: 1.4626\n",
      "Epoch 62, CIFAR-10 Batch 1:  Train Acc: 0.7250, Train Cost: 1.1322\tValid Acc: 0.5094, Valid Cost: 1.4617\n",
      "Epoch 63, CIFAR-10 Batch 1:  Train Acc: 0.7250, Train Cost: 1.1044\tValid Acc: 0.5132, Valid Cost: 1.4537\n",
      "Epoch 64, CIFAR-10 Batch 1:  Train Acc: 0.7250, Train Cost: 1.1246\tValid Acc: 0.5136, Valid Cost: 1.4606\n",
      "Epoch 65, CIFAR-10 Batch 1:  Train Acc: 0.7250, Train Cost: 1.0987\tValid Acc: 0.5130, Valid Cost: 1.4597\n"
     ]
    }
   ],
   "source": [
    "\"\"\"\n",
    "DON'T MODIFY ANYTHING IN THIS CELL\n",
    "\"\"\"\n",
    "print('Checking the Training on a Single Batch...')\n",
    "with tf.Session() as sess:\n",
    "    # Initializing the variables\n",
    "    sess.run(tf.global_variables_initializer())\n",
    "    \n",
    "    # Training cycle\n",
    "    for epoch in range(epochs):\n",
    "        batch_i = 1\n",
    "        for batch_features, batch_labels in helper.load_preprocess_training_batch(batch_i, batch_size):\n",
    "            train_neural_network(sess, optimizer, keep_probability, batch_features, batch_labels)\n",
    "        print('Epoch {:>2}, CIFAR-10 Batch {}:  '.format(epoch + 1, batch_i), end='')\n",
    "        print_stats(sess, batch_features, batch_labels, cost, accuracy)"
   ]
  },
  {
   "cell_type": "markdown",
   "metadata": {
    "deletable": true,
    "editable": true
   },
   "source": [
    "### Fully Train the Model\n",
    "Now that you got a good accuracy with a single CIFAR-10 batch, try it with all five batches."
   ]
  },
  {
   "cell_type": "code",
   "execution_count": 91,
   "metadata": {
    "collapsed": false,
    "deletable": true,
    "editable": true
   },
   "outputs": [
    {
     "name": "stdout",
     "output_type": "stream",
     "text": [
      "Training...\n",
      "Epoch  1, CIFAR-10 Batch 1:  Train Acc: 0.1750, Train Cost: 2.2565\tValid Acc: 0.1830, Valid Cost: 2.2590\n",
      "Epoch  1, CIFAR-10 Batch 2:  Train Acc: 0.3000, Train Cost: 2.1991\tValid Acc: 0.2648, Valid Cost: 2.1411\n",
      "Epoch  1, CIFAR-10 Batch 3:  Train Acc: 0.3000, Train Cost: 1.9196\tValid Acc: 0.3110, Valid Cost: 2.0144\n",
      "Epoch  1, CIFAR-10 Batch 4:  Train Acc: 0.4000, Train Cost: 1.9293\tValid Acc: 0.3440, Valid Cost: 1.9150\n",
      "Epoch  1, CIFAR-10 Batch 5:  Train Acc: 0.3500, Train Cost: 1.8780\tValid Acc: 0.3704, Valid Cost: 1.8399\n",
      "Epoch  2, CIFAR-10 Batch 1:  Train Acc: 0.3250, Train Cost: 1.9569\tValid Acc: 0.3824, Valid Cost: 1.8179\n",
      "Epoch  2, CIFAR-10 Batch 2:  Train Acc: 0.4500, Train Cost: 1.8046\tValid Acc: 0.3900, Valid Cost: 1.7751\n",
      "Epoch  2, CIFAR-10 Batch 3:  Train Acc: 0.4250, Train Cost: 1.6126\tValid Acc: 0.3940, Valid Cost: 1.7471\n",
      "Epoch  2, CIFAR-10 Batch 4:  Train Acc: 0.4000, Train Cost: 1.7390\tValid Acc: 0.4126, Valid Cost: 1.7229\n",
      "Epoch  2, CIFAR-10 Batch 5:  Train Acc: 0.4000, Train Cost: 1.7795\tValid Acc: 0.4232, Valid Cost: 1.6981\n",
      "Epoch  3, CIFAR-10 Batch 1:  Train Acc: 0.3250, Train Cost: 1.8301\tValid Acc: 0.4324, Valid Cost: 1.6984\n",
      "Epoch  3, CIFAR-10 Batch 2:  Train Acc: 0.5500, Train Cost: 1.6216\tValid Acc: 0.4328, Valid Cost: 1.6632\n",
      "Epoch  3, CIFAR-10 Batch 3:  Train Acc: 0.4250, Train Cost: 1.4774\tValid Acc: 0.4346, Valid Cost: 1.6495\n",
      "Epoch  3, CIFAR-10 Batch 4:  Train Acc: 0.3750, Train Cost: 1.6756\tValid Acc: 0.4448, Valid Cost: 1.6380\n",
      "Epoch  3, CIFAR-10 Batch 5:  Train Acc: 0.4500, Train Cost: 1.7406\tValid Acc: 0.4468, Valid Cost: 1.6300\n",
      "Epoch  4, CIFAR-10 Batch 1:  Train Acc: 0.4000, Train Cost: 1.7339\tValid Acc: 0.4502, Valid Cost: 1.6395\n",
      "Epoch  4, CIFAR-10 Batch 2:  Train Acc: 0.5250, Train Cost: 1.5373\tValid Acc: 0.4494, Valid Cost: 1.6111\n",
      "Epoch  4, CIFAR-10 Batch 3:  Train Acc: 0.5500, Train Cost: 1.3732\tValid Acc: 0.4536, Valid Cost: 1.6019\n",
      "Epoch  4, CIFAR-10 Batch 4:  Train Acc: 0.4000, Train Cost: 1.6512\tValid Acc: 0.4586, Valid Cost: 1.5941\n",
      "Epoch  4, CIFAR-10 Batch 5:  Train Acc: 0.4250, Train Cost: 1.7114\tValid Acc: 0.4616, Valid Cost: 1.5863\n",
      "Epoch  5, CIFAR-10 Batch 1:  Train Acc: 0.4750, Train Cost: 1.6806\tValid Acc: 0.4582, Valid Cost: 1.6096\n",
      "Epoch  5, CIFAR-10 Batch 2:  Train Acc: 0.5750, Train Cost: 1.4729\tValid Acc: 0.4648, Valid Cost: 1.5818\n",
      "Epoch  5, CIFAR-10 Batch 3:  Train Acc: 0.5750, Train Cost: 1.3311\tValid Acc: 0.4676, Valid Cost: 1.5713\n",
      "Epoch  5, CIFAR-10 Batch 4:  Train Acc: 0.4250, Train Cost: 1.6176\tValid Acc: 0.4736, Valid Cost: 1.5606\n",
      "Epoch  5, CIFAR-10 Batch 5:  Train Acc: 0.4000, Train Cost: 1.6828\tValid Acc: 0.4684, Valid Cost: 1.5649\n",
      "Epoch  6, CIFAR-10 Batch 1:  Train Acc: 0.5250, Train Cost: 1.6421\tValid Acc: 0.4658, Valid Cost: 1.5801\n",
      "Epoch  6, CIFAR-10 Batch 2:  Train Acc: 0.5500, Train Cost: 1.4475\tValid Acc: 0.4746, Valid Cost: 1.5628\n",
      "Epoch  6, CIFAR-10 Batch 3:  Train Acc: 0.5750, Train Cost: 1.2907\tValid Acc: 0.4792, Valid Cost: 1.5469\n",
      "Epoch  6, CIFAR-10 Batch 4:  Train Acc: 0.4500, Train Cost: 1.5991\tValid Acc: 0.4862, Valid Cost: 1.5381\n",
      "Epoch  6, CIFAR-10 Batch 5:  Train Acc: 0.4000, Train Cost: 1.6623\tValid Acc: 0.4788, Valid Cost: 1.5432\n",
      "Epoch  7, CIFAR-10 Batch 1:  Train Acc: 0.5000, Train Cost: 1.6230\tValid Acc: 0.4828, Valid Cost: 1.5553\n",
      "Epoch  7, CIFAR-10 Batch 2:  Train Acc: 0.5500, Train Cost: 1.4246\tValid Acc: 0.4870, Valid Cost: 1.5329\n",
      "Epoch  7, CIFAR-10 Batch 3:  Train Acc: 0.5750, Train Cost: 1.2567\tValid Acc: 0.4902, Valid Cost: 1.5230\n",
      "Epoch  7, CIFAR-10 Batch 4:  Train Acc: 0.4250, Train Cost: 1.5454\tValid Acc: 0.4928, Valid Cost: 1.5192\n",
      "Epoch  7, CIFAR-10 Batch 5:  Train Acc: 0.3750, Train Cost: 1.6565\tValid Acc: 0.4860, Valid Cost: 1.5231\n",
      "Epoch  8, CIFAR-10 Batch 1:  Train Acc: 0.5000, Train Cost: 1.5852\tValid Acc: 0.4940, Valid Cost: 1.5386\n",
      "Epoch  8, CIFAR-10 Batch 2:  Train Acc: 0.5750, Train Cost: 1.3907\tValid Acc: 0.4956, Valid Cost: 1.5112\n",
      "Epoch  8, CIFAR-10 Batch 3:  Train Acc: 0.6000, Train Cost: 1.2262\tValid Acc: 0.4944, Valid Cost: 1.5018\n",
      "Epoch  8, CIFAR-10 Batch 4:  Train Acc: 0.4250, Train Cost: 1.4954\tValid Acc: 0.5000, Valid Cost: 1.5011\n",
      "Epoch  8, CIFAR-10 Batch 5:  Train Acc: 0.3750, Train Cost: 1.6309\tValid Acc: 0.4980, Valid Cost: 1.5008\n",
      "Epoch  9, CIFAR-10 Batch 1:  Train Acc: 0.4750, Train Cost: 1.5650\tValid Acc: 0.4974, Valid Cost: 1.5215\n",
      "Epoch  9, CIFAR-10 Batch 2:  Train Acc: 0.5250, Train Cost: 1.3499\tValid Acc: 0.5014, Valid Cost: 1.4904\n",
      "Epoch  9, CIFAR-10 Batch 3:  Train Acc: 0.6000, Train Cost: 1.1878\tValid Acc: 0.4998, Valid Cost: 1.4831\n",
      "Epoch  9, CIFAR-10 Batch 4:  Train Acc: 0.5250, Train Cost: 1.4780\tValid Acc: 0.5096, Valid Cost: 1.4752\n",
      "Epoch  9, CIFAR-10 Batch 5:  Train Acc: 0.4250, Train Cost: 1.5775\tValid Acc: 0.4996, Valid Cost: 1.4884\n",
      "Epoch 10, CIFAR-10 Batch 1:  Train Acc: 0.4750, Train Cost: 1.5417\tValid Acc: 0.5048, Valid Cost: 1.5001\n",
      "Epoch 10, CIFAR-10 Batch 2:  Train Acc: 0.5250, Train Cost: 1.3380\tValid Acc: 0.5124, Valid Cost: 1.4709\n",
      "Epoch 10, CIFAR-10 Batch 3:  Train Acc: 0.6500, Train Cost: 1.1552\tValid Acc: 0.5056, Valid Cost: 1.4683\n",
      "Epoch 10, CIFAR-10 Batch 4:  Train Acc: 0.5250, Train Cost: 1.4577\tValid Acc: 0.5190, Valid Cost: 1.4574\n",
      "Epoch 10, CIFAR-10 Batch 5:  Train Acc: 0.4750, Train Cost: 1.5461\tValid Acc: 0.5036, Valid Cost: 1.4704\n",
      "Epoch 11, CIFAR-10 Batch 1:  Train Acc: 0.4500, Train Cost: 1.5271\tValid Acc: 0.5076, Valid Cost: 1.4821\n",
      "Epoch 11, CIFAR-10 Batch 2:  Train Acc: 0.5250, Train Cost: 1.3019\tValid Acc: 0.5154, Valid Cost: 1.4576\n",
      "Epoch 11, CIFAR-10 Batch 3:  Train Acc: 0.6250, Train Cost: 1.1326\tValid Acc: 0.5162, Valid Cost: 1.4487\n",
      "Epoch 11, CIFAR-10 Batch 4:  Train Acc: 0.5250, Train Cost: 1.4135\tValid Acc: 0.5248, Valid Cost: 1.4432\n",
      "Epoch 11, CIFAR-10 Batch 5:  Train Acc: 0.4500, Train Cost: 1.4989\tValid Acc: 0.5042, Valid Cost: 1.4625\n",
      "Epoch 12, CIFAR-10 Batch 1:  Train Acc: 0.4750, Train Cost: 1.5072\tValid Acc: 0.5184, Valid Cost: 1.4606\n",
      "Epoch 12, CIFAR-10 Batch 2:  Train Acc: 0.5500, Train Cost: 1.2590\tValid Acc: 0.5208, Valid Cost: 1.4396\n",
      "Epoch 12, CIFAR-10 Batch 3:  Train Acc: 0.6750, Train Cost: 1.1014\tValid Acc: 0.5230, Valid Cost: 1.4376\n",
      "Epoch 12, CIFAR-10 Batch 4:  Train Acc: 0.5000, Train Cost: 1.3846\tValid Acc: 0.5296, Valid Cost: 1.4298\n",
      "Epoch 12, CIFAR-10 Batch 5:  Train Acc: 0.5250, Train Cost: 1.4819\tValid Acc: 0.5210, Valid Cost: 1.4299\n",
      "Epoch 13, CIFAR-10 Batch 1:  Train Acc: 0.4750, Train Cost: 1.4767\tValid Acc: 0.5148, Valid Cost: 1.4634\n",
      "Epoch 13, CIFAR-10 Batch 2:  Train Acc: 0.5750, Train Cost: 1.2543\tValid Acc: 0.5284, Valid Cost: 1.4259\n",
      "Epoch 13, CIFAR-10 Batch 3:  Train Acc: 0.6750, Train Cost: 1.0846\tValid Acc: 0.5296, Valid Cost: 1.4206\n",
      "Epoch 13, CIFAR-10 Batch 4:  Train Acc: 0.5750, Train Cost: 1.3620\tValid Acc: 0.5338, Valid Cost: 1.4168\n",
      "Epoch 13, CIFAR-10 Batch 5:  Train Acc: 0.4750, Train Cost: 1.4803\tValid Acc: 0.5266, Valid Cost: 1.4208\n",
      "Epoch 14, CIFAR-10 Batch 1:  Train Acc: 0.4750, Train Cost: 1.4632\tValid Acc: 0.5210, Valid Cost: 1.4440\n",
      "Epoch 14, CIFAR-10 Batch 2:  Train Acc: 0.5250, Train Cost: 1.2455\tValid Acc: 0.5388, Valid Cost: 1.4151\n",
      "Epoch 14, CIFAR-10 Batch 3:  Train Acc: 0.7000, Train Cost: 1.0512\tValid Acc: 0.5308, Valid Cost: 1.4105\n",
      "Epoch 14, CIFAR-10 Batch 4:  Train Acc: 0.5750, Train Cost: 1.3472\tValid Acc: 0.5388, Valid Cost: 1.4009\n",
      "Epoch 14, CIFAR-10 Batch 5:  Train Acc: 0.5000, Train Cost: 1.4369\tValid Acc: 0.5206, Valid Cost: 1.4183\n",
      "Epoch 15, CIFAR-10 Batch 1:  Train Acc: 0.5250, Train Cost: 1.4453\tValid Acc: 0.5324, Valid Cost: 1.4181\n",
      "Epoch 15, CIFAR-10 Batch 2:  Train Acc: 0.5500, Train Cost: 1.2332\tValid Acc: 0.5356, Valid Cost: 1.4129\n",
      "Epoch 15, CIFAR-10 Batch 3:  Train Acc: 0.7000, Train Cost: 1.0432\tValid Acc: 0.5326, Valid Cost: 1.4091\n",
      "Epoch 15, CIFAR-10 Batch 4:  Train Acc: 0.5750, Train Cost: 1.3279\tValid Acc: 0.5406, Valid Cost: 1.3924\n",
      "Epoch 15, CIFAR-10 Batch 5:  Train Acc: 0.5250, Train Cost: 1.4262\tValid Acc: 0.5310, Valid Cost: 1.3966\n",
      "Epoch 16, CIFAR-10 Batch 1:  Train Acc: 0.5250, Train Cost: 1.4316\tValid Acc: 0.5260, Valid Cost: 1.4268\n",
      "Epoch 16, CIFAR-10 Batch 2:  Train Acc: 0.5500, Train Cost: 1.2294\tValid Acc: 0.5430, Valid Cost: 1.3986\n",
      "Epoch 16, CIFAR-10 Batch 3:  Train Acc: 0.7000, Train Cost: 1.0278\tValid Acc: 0.5374, Valid Cost: 1.3990\n",
      "Epoch 16, CIFAR-10 Batch 4:  Train Acc: 0.6500, Train Cost: 1.3062\tValid Acc: 0.5438, Valid Cost: 1.3833\n",
      "Epoch 16, CIFAR-10 Batch 5:  Train Acc: 0.5000, Train Cost: 1.4095\tValid Acc: 0.5338, Valid Cost: 1.3946\n",
      "Epoch 17, CIFAR-10 Batch 1:  Train Acc: 0.5500, Train Cost: 1.4252\tValid Acc: 0.5380, Valid Cost: 1.4054\n",
      "Epoch 17, CIFAR-10 Batch 2:  Train Acc: 0.5250, Train Cost: 1.2241\tValid Acc: 0.5450, Valid Cost: 1.3880\n",
      "Epoch 17, CIFAR-10 Batch 3:  Train Acc: 0.7000, Train Cost: 1.0158\tValid Acc: 0.5420, Valid Cost: 1.3846\n",
      "Epoch 17, CIFAR-10 Batch 4:  Train Acc: 0.6500, Train Cost: 1.2846\tValid Acc: 0.5444, Valid Cost: 1.3810\n",
      "Epoch 17, CIFAR-10 Batch 5:  Train Acc: 0.5250, Train Cost: 1.3998\tValid Acc: 0.5364, Valid Cost: 1.3867\n",
      "Epoch 18, CIFAR-10 Batch 1:  Train Acc: 0.5000, Train Cost: 1.4292\tValid Acc: 0.5354, Valid Cost: 1.4089\n",
      "Epoch 18, CIFAR-10 Batch 2:  Train Acc: 0.5500, Train Cost: 1.2160\tValid Acc: 0.5476, Valid Cost: 1.3831\n",
      "Epoch 18, CIFAR-10 Batch 3:  Train Acc: 0.7000, Train Cost: 0.9945\tValid Acc: 0.5458, Valid Cost: 1.3747\n",
      "Epoch 18, CIFAR-10 Batch 4:  Train Acc: 0.6250, Train Cost: 1.2732\tValid Acc: 0.5512, Valid Cost: 1.3656\n",
      "Epoch 18, CIFAR-10 Batch 5:  Train Acc: 0.5750, Train Cost: 1.3848\tValid Acc: 0.5386, Valid Cost: 1.3784\n",
      "Epoch 19, CIFAR-10 Batch 1:  Train Acc: 0.5000, Train Cost: 1.4284\tValid Acc: 0.5454, Valid Cost: 1.3882\n",
      "Epoch 19, CIFAR-10 Batch 2:  Train Acc: 0.5500, Train Cost: 1.1897\tValid Acc: 0.5524, Valid Cost: 1.3738\n",
      "Epoch 19, CIFAR-10 Batch 3:  Train Acc: 0.7000, Train Cost: 0.9958\tValid Acc: 0.5466, Valid Cost: 1.3685\n",
      "Epoch 19, CIFAR-10 Batch 4:  Train Acc: 0.6250, Train Cost: 1.2634\tValid Acc: 0.5536, Valid Cost: 1.3578\n",
      "Epoch 19, CIFAR-10 Batch 5:  Train Acc: 0.5500, Train Cost: 1.3761\tValid Acc: 0.5422, Valid Cost: 1.3752\n",
      "Epoch 20, CIFAR-10 Batch 1:  Train Acc: 0.5000, Train Cost: 1.4058\tValid Acc: 0.5458, Valid Cost: 1.3939\n",
      "Epoch 20, CIFAR-10 Batch 2:  Train Acc: 0.5500, Train Cost: 1.1682\tValid Acc: 0.5546, Valid Cost: 1.3650\n",
      "Epoch 20, CIFAR-10 Batch 3:  Train Acc: 0.7000, Train Cost: 0.9791\tValid Acc: 0.5496, Valid Cost: 1.3618\n",
      "Epoch 20, CIFAR-10 Batch 4:  Train Acc: 0.5750, Train Cost: 1.2834\tValid Acc: 0.5542, Valid Cost: 1.3526\n",
      "Epoch 20, CIFAR-10 Batch 5:  Train Acc: 0.5250, Train Cost: 1.3614\tValid Acc: 0.5394, Valid Cost: 1.3726\n",
      "Epoch 21, CIFAR-10 Batch 1:  Train Acc: 0.5000, Train Cost: 1.3990\tValid Acc: 0.5434, Valid Cost: 1.3952\n",
      "Epoch 21, CIFAR-10 Batch 2:  Train Acc: 0.5250, Train Cost: 1.1720\tValid Acc: 0.5580, Valid Cost: 1.3527\n",
      "Epoch 21, CIFAR-10 Batch 3:  Train Acc: 0.7000, Train Cost: 0.9676\tValid Acc: 0.5514, Valid Cost: 1.3568\n",
      "Epoch 21, CIFAR-10 Batch 4:  Train Acc: 0.6250, Train Cost: 1.2581\tValid Acc: 0.5612, Valid Cost: 1.3452\n",
      "Epoch 21, CIFAR-10 Batch 5:  Train Acc: 0.5750, Train Cost: 1.3615\tValid Acc: 0.5522, Valid Cost: 1.3588\n",
      "Epoch 22, CIFAR-10 Batch 1:  Train Acc: 0.5000, Train Cost: 1.3872\tValid Acc: 0.5526, Valid Cost: 1.3769\n",
      "Epoch 22, CIFAR-10 Batch 2:  Train Acc: 0.5500, Train Cost: 1.1869\tValid Acc: 0.5640, Valid Cost: 1.3509\n",
      "Epoch 22, CIFAR-10 Batch 3:  Train Acc: 0.7000, Train Cost: 0.9457\tValid Acc: 0.5518, Valid Cost: 1.3511\n",
      "Epoch 22, CIFAR-10 Batch 4:  Train Acc: 0.6250, Train Cost: 1.2398\tValid Acc: 0.5646, Valid Cost: 1.3405\n",
      "Epoch 22, CIFAR-10 Batch 5:  Train Acc: 0.5250, Train Cost: 1.3468\tValid Acc: 0.5494, Valid Cost: 1.3502\n",
      "Epoch 23, CIFAR-10 Batch 1:  Train Acc: 0.5750, Train Cost: 1.3733\tValid Acc: 0.5530, Valid Cost: 1.3684\n",
      "Epoch 23, CIFAR-10 Batch 2:  Train Acc: 0.5250, Train Cost: 1.1679\tValid Acc: 0.5638, Valid Cost: 1.3464\n",
      "Epoch 23, CIFAR-10 Batch 3:  Train Acc: 0.7000, Train Cost: 0.9546\tValid Acc: 0.5560, Valid Cost: 1.3411\n",
      "Epoch 23, CIFAR-10 Batch 4:  Train Acc: 0.6250, Train Cost: 1.2362\tValid Acc: 0.5618, Valid Cost: 1.3353\n",
      "Epoch 23, CIFAR-10 Batch 5:  Train Acc: 0.5250, Train Cost: 1.3510\tValid Acc: 0.5542, Valid Cost: 1.3436\n",
      "Epoch 24, CIFAR-10 Batch 1:  Train Acc: 0.5750, Train Cost: 1.3579\tValid Acc: 0.5508, Valid Cost: 1.3769\n",
      "Epoch 24, CIFAR-10 Batch 2:  Train Acc: 0.5500, Train Cost: 1.1652\tValid Acc: 0.5660, Valid Cost: 1.3452\n",
      "Epoch 24, CIFAR-10 Batch 3:  Train Acc: 0.7000, Train Cost: 0.9462\tValid Acc: 0.5600, Valid Cost: 1.3351\n",
      "Epoch 24, CIFAR-10 Batch 4:  Train Acc: 0.6250, Train Cost: 1.2278\tValid Acc: 0.5640, Valid Cost: 1.3286\n",
      "Epoch 24, CIFAR-10 Batch 5:  Train Acc: 0.5750, Train Cost: 1.3468\tValid Acc: 0.5590, Valid Cost: 1.3376\n",
      "Epoch 25, CIFAR-10 Batch 1:  Train Acc: 0.5500, Train Cost: 1.3637\tValid Acc: 0.5604, Valid Cost: 1.3530\n",
      "Epoch 25, CIFAR-10 Batch 2:  Train Acc: 0.5500, Train Cost: 1.1506\tValid Acc: 0.5678, Valid Cost: 1.3365\n",
      "Epoch 25, CIFAR-10 Batch 3:  Train Acc: 0.7000, Train Cost: 0.9397\tValid Acc: 0.5642, Valid Cost: 1.3314\n",
      "Epoch 25, CIFAR-10 Batch 4:  Train Acc: 0.6250, Train Cost: 1.1942\tValid Acc: 0.5662, Valid Cost: 1.3255\n",
      "Epoch 25, CIFAR-10 Batch 5:  Train Acc: 0.5750, Train Cost: 1.3131\tValid Acc: 0.5618, Valid Cost: 1.3290\n",
      "Epoch 26, CIFAR-10 Batch 1:  Train Acc: 0.5500, Train Cost: 1.3578\tValid Acc: 0.5568, Valid Cost: 1.3521\n",
      "Epoch 26, CIFAR-10 Batch 2:  Train Acc: 0.5500, Train Cost: 1.1376\tValid Acc: 0.5714, Valid Cost: 1.3377\n",
      "Epoch 26, CIFAR-10 Batch 3:  Train Acc: 0.7000, Train Cost: 0.9198\tValid Acc: 0.5634, Valid Cost: 1.3251\n",
      "Epoch 26, CIFAR-10 Batch 4:  Train Acc: 0.6000, Train Cost: 1.2200\tValid Acc: 0.5622, Valid Cost: 1.3211\n",
      "Epoch 26, CIFAR-10 Batch 5:  Train Acc: 0.5750, Train Cost: 1.3182\tValid Acc: 0.5674, Valid Cost: 1.3251\n",
      "Epoch 27, CIFAR-10 Batch 1:  Train Acc: 0.5500, Train Cost: 1.3435\tValid Acc: 0.5670, Valid Cost: 1.3345\n",
      "Epoch 27, CIFAR-10 Batch 2:  Train Acc: 0.5500, Train Cost: 1.1421\tValid Acc: 0.5796, Valid Cost: 1.3180\n",
      "Epoch 27, CIFAR-10 Batch 3:  Train Acc: 0.7250, Train Cost: 0.9271\tValid Acc: 0.5728, Valid Cost: 1.3220\n",
      "Epoch 27, CIFAR-10 Batch 4:  Train Acc: 0.6250, Train Cost: 1.1971\tValid Acc: 0.5702, Valid Cost: 1.3178\n",
      "Epoch 27, CIFAR-10 Batch 5:  Train Acc: 0.5500, Train Cost: 1.2901\tValid Acc: 0.5636, Valid Cost: 1.3314\n",
      "Epoch 28, CIFAR-10 Batch 1:  Train Acc: 0.5500, Train Cost: 1.3507\tValid Acc: 0.5666, Valid Cost: 1.3385\n",
      "Epoch 28, CIFAR-10 Batch 2:  Train Acc: 0.5000, Train Cost: 1.1277\tValid Acc: 0.5706, Valid Cost: 1.3285\n",
      "Epoch 28, CIFAR-10 Batch 3:  Train Acc: 0.6750, Train Cost: 0.9242\tValid Acc: 0.5688, Valid Cost: 1.3230\n",
      "Epoch 28, CIFAR-10 Batch 4:  Train Acc: 0.6000, Train Cost: 1.2045\tValid Acc: 0.5756, Valid Cost: 1.3119\n",
      "Epoch 28, CIFAR-10 Batch 5:  Train Acc: 0.6000, Train Cost: 1.2802\tValid Acc: 0.5716, Valid Cost: 1.3201\n",
      "Epoch 29, CIFAR-10 Batch 1:  Train Acc: 0.5500, Train Cost: 1.3416\tValid Acc: 0.5578, Valid Cost: 1.3584\n",
      "Epoch 29, CIFAR-10 Batch 2:  Train Acc: 0.5750, Train Cost: 1.1253\tValid Acc: 0.5802, Valid Cost: 1.3105\n",
      "Epoch 29, CIFAR-10 Batch 3:  Train Acc: 0.7000, Train Cost: 0.9078\tValid Acc: 0.5730, Valid Cost: 1.3134\n",
      "Epoch 29, CIFAR-10 Batch 4:  Train Acc: 0.6250, Train Cost: 1.1889\tValid Acc: 0.5782, Valid Cost: 1.3069\n",
      "Epoch 29, CIFAR-10 Batch 5:  Train Acc: 0.6250, Train Cost: 1.2820\tValid Acc: 0.5738, Valid Cost: 1.3129\n",
      "Epoch 30, CIFAR-10 Batch 1:  Train Acc: 0.5500, Train Cost: 1.3514\tValid Acc: 0.5712, Valid Cost: 1.3240\n",
      "Epoch 30, CIFAR-10 Batch 2:  Train Acc: 0.5500, Train Cost: 1.1322\tValid Acc: 0.5820, Valid Cost: 1.3100\n",
      "Epoch 30, CIFAR-10 Batch 3:  Train Acc: 0.7000, Train Cost: 0.9074\tValid Acc: 0.5786, Valid Cost: 1.3108\n",
      "Epoch 30, CIFAR-10 Batch 4:  Train Acc: 0.6250, Train Cost: 1.1959\tValid Acc: 0.5760, Valid Cost: 1.3001\n",
      "Epoch 30, CIFAR-10 Batch 5:  Train Acc: 0.6000, Train Cost: 1.2525\tValid Acc: 0.5706, Valid Cost: 1.3088\n",
      "Epoch 31, CIFAR-10 Batch 1:  Train Acc: 0.5500, Train Cost: 1.3303\tValid Acc: 0.5648, Valid Cost: 1.3345\n",
      "Epoch 31, CIFAR-10 Batch 2:  Train Acc: 0.5500, Train Cost: 1.1280\tValid Acc: 0.5770, Valid Cost: 1.3067\n",
      "Epoch 31, CIFAR-10 Batch 3:  Train Acc: 0.7250, Train Cost: 0.8951\tValid Acc: 0.5824, Valid Cost: 1.3095\n",
      "Epoch 31, CIFAR-10 Batch 4:  Train Acc: 0.5750, Train Cost: 1.1970\tValid Acc: 0.5822, Valid Cost: 1.2982\n",
      "Epoch 31, CIFAR-10 Batch 5:  Train Acc: 0.6000, Train Cost: 1.2503\tValid Acc: 0.5710, Valid Cost: 1.3032\n",
      "Epoch 32, CIFAR-10 Batch 1:  Train Acc: 0.5750, Train Cost: 1.3297\tValid Acc: 0.5674, Valid Cost: 1.3195\n",
      "Epoch 32, CIFAR-10 Batch 2:  Train Acc: 0.5750, Train Cost: 1.1093\tValid Acc: 0.5790, Valid Cost: 1.3003\n",
      "Epoch 32, CIFAR-10 Batch 3:  Train Acc: 0.7000, Train Cost: 0.8911\tValid Acc: 0.5814, Valid Cost: 1.2989\n",
      "Epoch 32, CIFAR-10 Batch 4:  Train Acc: 0.6250, Train Cost: 1.1938\tValid Acc: 0.5828, Valid Cost: 1.2912\n",
      "Epoch 32, CIFAR-10 Batch 5:  Train Acc: 0.5750, Train Cost: 1.2538\tValid Acc: 0.5782, Valid Cost: 1.3003\n",
      "Epoch 33, CIFAR-10 Batch 1:  Train Acc: 0.5750, Train Cost: 1.3439\tValid Acc: 0.5756, Valid Cost: 1.3152\n",
      "Epoch 33, CIFAR-10 Batch 2:  Train Acc: 0.5750, Train Cost: 1.0986\tValid Acc: 0.5782, Valid Cost: 1.3028\n",
      "Epoch 33, CIFAR-10 Batch 3:  Train Acc: 0.7250, Train Cost: 0.8949\tValid Acc: 0.5828, Valid Cost: 1.3030\n",
      "Epoch 33, CIFAR-10 Batch 4:  Train Acc: 0.6250, Train Cost: 1.1764\tValid Acc: 0.5862, Valid Cost: 1.2893\n",
      "Epoch 33, CIFAR-10 Batch 5:  Train Acc: 0.6250, Train Cost: 1.2407\tValid Acc: 0.5798, Valid Cost: 1.2988\n",
      "Epoch 34, CIFAR-10 Batch 1:  Train Acc: 0.5750, Train Cost: 1.3232\tValid Acc: 0.5790, Valid Cost: 1.3013\n",
      "Epoch 34, CIFAR-10 Batch 2:  Train Acc: 0.5500, Train Cost: 1.0879\tValid Acc: 0.5776, Valid Cost: 1.2976\n",
      "Epoch 34, CIFAR-10 Batch 3:  Train Acc: 0.7250, Train Cost: 0.8794\tValid Acc: 0.5812, Valid Cost: 1.3008\n",
      "Epoch 34, CIFAR-10 Batch 4:  Train Acc: 0.6750, Train Cost: 1.1670\tValid Acc: 0.5874, Valid Cost: 1.2865\n",
      "Epoch 34, CIFAR-10 Batch 5:  Train Acc: 0.6250, Train Cost: 1.2310\tValid Acc: 0.5784, Valid Cost: 1.2893\n",
      "Epoch 35, CIFAR-10 Batch 1:  Train Acc: 0.6000, Train Cost: 1.3091\tValid Acc: 0.5728, Valid Cost: 1.3168\n",
      "Epoch 35, CIFAR-10 Batch 2:  Train Acc: 0.5500, Train Cost: 1.0902\tValid Acc: 0.5844, Valid Cost: 1.2889\n",
      "Epoch 35, CIFAR-10 Batch 3:  Train Acc: 0.7250, Train Cost: 0.8807\tValid Acc: 0.5862, Valid Cost: 1.2969\n",
      "Epoch 35, CIFAR-10 Batch 4:  Train Acc: 0.6500, Train Cost: 1.1675\tValid Acc: 0.5860, Valid Cost: 1.2838\n",
      "Epoch 35, CIFAR-10 Batch 5:  Train Acc: 0.6250, Train Cost: 1.2234\tValid Acc: 0.5838, Valid Cost: 1.2848\n",
      "Epoch 36, CIFAR-10 Batch 1:  Train Acc: 0.6000, Train Cost: 1.3117\tValid Acc: 0.5764, Valid Cost: 1.3025\n",
      "Epoch 36, CIFAR-10 Batch 2:  Train Acc: 0.5500, Train Cost: 1.0873\tValid Acc: 0.5868, Valid Cost: 1.2853\n",
      "Epoch 36, CIFAR-10 Batch 3:  Train Acc: 0.7000, Train Cost: 0.8867\tValid Acc: 0.5862, Valid Cost: 1.2915\n",
      "Epoch 36, CIFAR-10 Batch 4:  Train Acc: 0.5750, Train Cost: 1.2003\tValid Acc: 0.5866, Valid Cost: 1.2833\n",
      "Epoch 36, CIFAR-10 Batch 5:  Train Acc: 0.6000, Train Cost: 1.2261\tValid Acc: 0.5818, Valid Cost: 1.2853\n",
      "Epoch 37, CIFAR-10 Batch 1:  Train Acc: 0.5500, Train Cost: 1.3132\tValid Acc: 0.5804, Valid Cost: 1.2966\n",
      "Epoch 37, CIFAR-10 Batch 2:  Train Acc: 0.5500, Train Cost: 1.0633\tValid Acc: 0.5872, Valid Cost: 1.2832\n",
      "Epoch 37, CIFAR-10 Batch 3:  Train Acc: 0.7250, Train Cost: 0.8784\tValid Acc: 0.5866, Valid Cost: 1.2869\n",
      "Epoch 37, CIFAR-10 Batch 4:  Train Acc: 0.6500, Train Cost: 1.1745\tValid Acc: 0.5876, Valid Cost: 1.2804\n",
      "Epoch 37, CIFAR-10 Batch 5:  Train Acc: 0.6250, Train Cost: 1.2164\tValid Acc: 0.5894, Valid Cost: 1.2779\n",
      "Epoch 38, CIFAR-10 Batch 1:  Train Acc: 0.5750, Train Cost: 1.2957\tValid Acc: 0.5830, Valid Cost: 1.2864\n",
      "Epoch 38, CIFAR-10 Batch 2:  Train Acc: 0.5500, Train Cost: 1.0663\tValid Acc: 0.5836, Valid Cost: 1.2813\n",
      "Epoch 38, CIFAR-10 Batch 3:  Train Acc: 0.7250, Train Cost: 0.8527\tValid Acc: 0.5874, Valid Cost: 1.2756\n",
      "Epoch 38, CIFAR-10 Batch 4:  Train Acc: 0.6750, Train Cost: 1.1543\tValid Acc: 0.5932, Valid Cost: 1.2747\n",
      "Epoch 38, CIFAR-10 Batch 5:  Train Acc: 0.6500, Train Cost: 1.2102\tValid Acc: 0.5892, Valid Cost: 1.2784\n",
      "Epoch 39, CIFAR-10 Batch 1:  Train Acc: 0.6000, Train Cost: 1.2992\tValid Acc: 0.5778, Valid Cost: 1.3012\n",
      "Epoch 39, CIFAR-10 Batch 2:  Train Acc: 0.6000, Train Cost: 1.0456\tValid Acc: 0.5878, Valid Cost: 1.2839\n",
      "Epoch 39, CIFAR-10 Batch 3:  Train Acc: 0.7000, Train Cost: 0.8665\tValid Acc: 0.5868, Valid Cost: 1.2828\n",
      "Epoch 39, CIFAR-10 Batch 4:  Train Acc: 0.6500, Train Cost: 1.1652\tValid Acc: 0.5918, Valid Cost: 1.2731\n",
      "Epoch 39, CIFAR-10 Batch 5:  Train Acc: 0.6250, Train Cost: 1.1936\tValid Acc: 0.5876, Valid Cost: 1.2721\n",
      "Epoch 40, CIFAR-10 Batch 1:  Train Acc: 0.5750, Train Cost: 1.2871\tValid Acc: 0.5802, Valid Cost: 1.2925\n",
      "Epoch 40, CIFAR-10 Batch 2:  Train Acc: 0.5750, Train Cost: 1.0621\tValid Acc: 0.5856, Valid Cost: 1.2740\n",
      "Epoch 40, CIFAR-10 Batch 3:  Train Acc: 0.7250, Train Cost: 0.8567\tValid Acc: 0.5846, Valid Cost: 1.2797\n",
      "Epoch 40, CIFAR-10 Batch 4:  Train Acc: 0.6500, Train Cost: 1.1605\tValid Acc: 0.5944, Valid Cost: 1.2677\n",
      "Epoch 40, CIFAR-10 Batch 5:  Train Acc: 0.6500, Train Cost: 1.1976\tValid Acc: 0.5868, Valid Cost: 1.2732\n",
      "Epoch 41, CIFAR-10 Batch 1:  Train Acc: 0.5500, Train Cost: 1.2769\tValid Acc: 0.5784, Valid Cost: 1.2976\n",
      "Epoch 41, CIFAR-10 Batch 2:  Train Acc: 0.5750, Train Cost: 1.0308\tValid Acc: 0.5900, Valid Cost: 1.2699\n",
      "Epoch 41, CIFAR-10 Batch 3:  Train Acc: 0.7250, Train Cost: 0.8544\tValid Acc: 0.5926, Valid Cost: 1.2767\n",
      "Epoch 41, CIFAR-10 Batch 4:  Train Acc: 0.6500, Train Cost: 1.1578\tValid Acc: 0.5922, Valid Cost: 1.2647\n",
      "Epoch 41, CIFAR-10 Batch 5:  Train Acc: 0.6250, Train Cost: 1.1967\tValid Acc: 0.5870, Valid Cost: 1.2726\n",
      "Epoch 42, CIFAR-10 Batch 1:  Train Acc: 0.5750, Train Cost: 1.2925\tValid Acc: 0.5848, Valid Cost: 1.2846\n",
      "Epoch 42, CIFAR-10 Batch 2:  Train Acc: 0.5750, Train Cost: 1.0355\tValid Acc: 0.5866, Valid Cost: 1.2716\n",
      "Epoch 42, CIFAR-10 Batch 3:  Train Acc: 0.7250, Train Cost: 0.8542\tValid Acc: 0.5858, Valid Cost: 1.2716\n",
      "Epoch 42, CIFAR-10 Batch 4:  Train Acc: 0.6250, Train Cost: 1.1615\tValid Acc: 0.5924, Valid Cost: 1.2614\n",
      "Epoch 42, CIFAR-10 Batch 5:  Train Acc: 0.6750, Train Cost: 1.1839\tValid Acc: 0.5860, Valid Cost: 1.2786\n",
      "Epoch 43, CIFAR-10 Batch 1:  Train Acc: 0.5750, Train Cost: 1.2874\tValid Acc: 0.5878, Valid Cost: 1.2805\n",
      "Epoch 43, CIFAR-10 Batch 2:  Train Acc: 0.5750, Train Cost: 1.0190\tValid Acc: 0.5920, Valid Cost: 1.2720\n",
      "Epoch 43, CIFAR-10 Batch 3:  Train Acc: 0.7750, Train Cost: 0.8454\tValid Acc: 0.5942, Valid Cost: 1.2628\n",
      "Epoch 43, CIFAR-10 Batch 4:  Train Acc: 0.6250, Train Cost: 1.1434\tValid Acc: 0.5954, Valid Cost: 1.2596\n",
      "Epoch 43, CIFAR-10 Batch 5:  Train Acc: 0.6250, Train Cost: 1.1905\tValid Acc: 0.5930, Valid Cost: 1.2613\n",
      "Epoch 44, CIFAR-10 Batch 1:  Train Acc: 0.6000, Train Cost: 1.2787\tValid Acc: 0.5828, Valid Cost: 1.2869\n",
      "Epoch 44, CIFAR-10 Batch 2:  Train Acc: 0.6000, Train Cost: 1.0286\tValid Acc: 0.5920, Valid Cost: 1.2693\n",
      "Epoch 44, CIFAR-10 Batch 3:  Train Acc: 0.7500, Train Cost: 0.8350\tValid Acc: 0.5942, Valid Cost: 1.2640\n",
      "Epoch 44, CIFAR-10 Batch 4:  Train Acc: 0.6250, Train Cost: 1.1268\tValid Acc: 0.5974, Valid Cost: 1.2555\n",
      "Epoch 44, CIFAR-10 Batch 5:  Train Acc: 0.6250, Train Cost: 1.1856\tValid Acc: 0.5928, Valid Cost: 1.2586\n",
      "Epoch 45, CIFAR-10 Batch 1:  Train Acc: 0.5750, Train Cost: 1.2593\tValid Acc: 0.5838, Valid Cost: 1.2789\n",
      "Epoch 45, CIFAR-10 Batch 2:  Train Acc: 0.5750, Train Cost: 1.0186\tValid Acc: 0.5918, Valid Cost: 1.2685\n",
      "Epoch 45, CIFAR-10 Batch 3:  Train Acc: 0.7500, Train Cost: 0.8278\tValid Acc: 0.5900, Valid Cost: 1.2623\n",
      "Epoch 45, CIFAR-10 Batch 4:  Train Acc: 0.6250, Train Cost: 1.1248\tValid Acc: 0.5980, Valid Cost: 1.2534\n",
      "Epoch 45, CIFAR-10 Batch 5:  Train Acc: 0.7000, Train Cost: 1.1792\tValid Acc: 0.5934, Valid Cost: 1.2589\n",
      "Epoch 46, CIFAR-10 Batch 1:  Train Acc: 0.6000, Train Cost: 1.2454\tValid Acc: 0.5808, Valid Cost: 1.2892\n",
      "Epoch 46, CIFAR-10 Batch 2:  Train Acc: 0.6000, Train Cost: 1.0213\tValid Acc: 0.5976, Valid Cost: 1.2592\n",
      "Epoch 46, CIFAR-10 Batch 3:  Train Acc: 0.7250, Train Cost: 0.8287\tValid Acc: 0.5966, Valid Cost: 1.2576\n",
      "Epoch 46, CIFAR-10 Batch 4:  Train Acc: 0.6500, Train Cost: 1.1385\tValid Acc: 0.5996, Valid Cost: 1.2533\n",
      "Epoch 46, CIFAR-10 Batch 5:  Train Acc: 0.6250, Train Cost: 1.1689\tValid Acc: 0.5966, Valid Cost: 1.2559\n",
      "Epoch 47, CIFAR-10 Batch 1:  Train Acc: 0.6000, Train Cost: 1.2510\tValid Acc: 0.5912, Valid Cost: 1.2694\n",
      "Epoch 47, CIFAR-10 Batch 2:  Train Acc: 0.6250, Train Cost: 1.0027\tValid Acc: 0.5914, Valid Cost: 1.2613\n",
      "Epoch 47, CIFAR-10 Batch 3:  Train Acc: 0.7250, Train Cost: 0.8219\tValid Acc: 0.5970, Valid Cost: 1.2577\n",
      "Epoch 47, CIFAR-10 Batch 4:  Train Acc: 0.6500, Train Cost: 1.1150\tValid Acc: 0.6014, Valid Cost: 1.2499\n",
      "Epoch 47, CIFAR-10 Batch 5:  Train Acc: 0.6250, Train Cost: 1.1699\tValid Acc: 0.5974, Valid Cost: 1.2497\n",
      "Epoch 48, CIFAR-10 Batch 1:  Train Acc: 0.6250, Train Cost: 1.2478\tValid Acc: 0.5754, Valid Cost: 1.2951\n",
      "Epoch 48, CIFAR-10 Batch 2:  Train Acc: 0.6250, Train Cost: 1.0000\tValid Acc: 0.5940, Valid Cost: 1.2589\n",
      "Epoch 48, CIFAR-10 Batch 3:  Train Acc: 0.7750, Train Cost: 0.8194\tValid Acc: 0.5996, Valid Cost: 1.2549\n",
      "Epoch 48, CIFAR-10 Batch 4:  Train Acc: 0.6500, Train Cost: 1.1287\tValid Acc: 0.6018, Valid Cost: 1.2486\n",
      "Epoch 48, CIFAR-10 Batch 5:  Train Acc: 0.6500, Train Cost: 1.1772\tValid Acc: 0.5954, Valid Cost: 1.2539\n",
      "Epoch 49, CIFAR-10 Batch 1:  Train Acc: 0.6000, Train Cost: 1.2537\tValid Acc: 0.5928, Valid Cost: 1.2572\n",
      "Epoch 49, CIFAR-10 Batch 2:  Train Acc: 0.6000, Train Cost: 0.9787\tValid Acc: 0.6008, Valid Cost: 1.2540\n",
      "Epoch 49, CIFAR-10 Batch 3:  Train Acc: 0.7750, Train Cost: 0.7991\tValid Acc: 0.5958, Valid Cost: 1.2539\n",
      "Epoch 49, CIFAR-10 Batch 4:  Train Acc: 0.6250, Train Cost: 1.1222\tValid Acc: 0.6024, Valid Cost: 1.2472\n",
      "Epoch 49, CIFAR-10 Batch 5:  Train Acc: 0.6250, Train Cost: 1.1711\tValid Acc: 0.5984, Valid Cost: 1.2473\n",
      "Epoch 50, CIFAR-10 Batch 1:  Train Acc: 0.6000, Train Cost: 1.2369\tValid Acc: 0.5766, Valid Cost: 1.2966\n",
      "Epoch 50, CIFAR-10 Batch 2:  Train Acc: 0.6500, Train Cost: 0.9827\tValid Acc: 0.6000, Valid Cost: 1.2505\n",
      "Epoch 50, CIFAR-10 Batch 3:  Train Acc: 0.8000, Train Cost: 0.8020\tValid Acc: 0.5998, Valid Cost: 1.2496\n",
      "Epoch 50, CIFAR-10 Batch 4:  Train Acc: 0.6500, Train Cost: 1.0929\tValid Acc: 0.6024, Valid Cost: 1.2363\n",
      "Epoch 50, CIFAR-10 Batch 5:  Train Acc: 0.6500, Train Cost: 1.1597\tValid Acc: 0.5998, Valid Cost: 1.2484\n",
      "Epoch 51, CIFAR-10 Batch 1:  Train Acc: 0.6000, Train Cost: 1.2452\tValid Acc: 0.5888, Valid Cost: 1.2686\n",
      "Epoch 51, CIFAR-10 Batch 2:  Train Acc: 0.6500, Train Cost: 0.9771\tValid Acc: 0.5990, Valid Cost: 1.2510\n",
      "Epoch 51, CIFAR-10 Batch 3:  Train Acc: 0.8000, Train Cost: 0.8039\tValid Acc: 0.6040, Valid Cost: 1.2452\n",
      "Epoch 51, CIFAR-10 Batch 4:  Train Acc: 0.6500, Train Cost: 1.1115\tValid Acc: 0.6046, Valid Cost: 1.2413\n",
      "Epoch 51, CIFAR-10 Batch 5:  Train Acc: 0.6500, Train Cost: 1.1562\tValid Acc: 0.6030, Valid Cost: 1.2424\n",
      "Epoch 52, CIFAR-10 Batch 1:  Train Acc: 0.6000, Train Cost: 1.2230\tValid Acc: 0.5890, Valid Cost: 1.2650\n",
      "Epoch 52, CIFAR-10 Batch 2:  Train Acc: 0.7000, Train Cost: 0.9643\tValid Acc: 0.5998, Valid Cost: 1.2535\n",
      "Epoch 52, CIFAR-10 Batch 3:  Train Acc: 0.7750, Train Cost: 0.8001\tValid Acc: 0.6068, Valid Cost: 1.2364\n",
      "Epoch 52, CIFAR-10 Batch 4:  Train Acc: 0.6500, Train Cost: 1.1039\tValid Acc: 0.6076, Valid Cost: 1.2393\n",
      "Epoch 52, CIFAR-10 Batch 5:  Train Acc: 0.6500, Train Cost: 1.1456\tValid Acc: 0.6014, Valid Cost: 1.2412\n",
      "Epoch 53, CIFAR-10 Batch 1:  Train Acc: 0.6000, Train Cost: 1.2206\tValid Acc: 0.5976, Valid Cost: 1.2512\n",
      "Epoch 53, CIFAR-10 Batch 2:  Train Acc: 0.6250, Train Cost: 0.9525\tValid Acc: 0.6010, Valid Cost: 1.2464\n",
      "Epoch 53, CIFAR-10 Batch 3:  Train Acc: 0.8250, Train Cost: 0.7987\tValid Acc: 0.6014, Valid Cost: 1.2554\n",
      "Epoch 53, CIFAR-10 Batch 4:  Train Acc: 0.6500, Train Cost: 1.1006\tValid Acc: 0.6092, Valid Cost: 1.2398\n",
      "Epoch 53, CIFAR-10 Batch 5:  Train Acc: 0.6500, Train Cost: 1.1332\tValid Acc: 0.6012, Valid Cost: 1.2413\n",
      "Epoch 54, CIFAR-10 Batch 1:  Train Acc: 0.5750, Train Cost: 1.2447\tValid Acc: 0.6004, Valid Cost: 1.2451\n",
      "Epoch 54, CIFAR-10 Batch 2:  Train Acc: 0.6500, Train Cost: 0.9520\tValid Acc: 0.6042, Valid Cost: 1.2432\n",
      "Epoch 54, CIFAR-10 Batch 3:  Train Acc: 0.8250, Train Cost: 0.7856\tValid Acc: 0.6044, Valid Cost: 1.2479\n",
      "Epoch 54, CIFAR-10 Batch 4:  Train Acc: 0.6500, Train Cost: 1.1266\tValid Acc: 0.6068, Valid Cost: 1.2372\n",
      "Epoch 54, CIFAR-10 Batch 5:  Train Acc: 0.6500, Train Cost: 1.1312\tValid Acc: 0.6024, Valid Cost: 1.2395\n",
      "Epoch 55, CIFAR-10 Batch 1:  Train Acc: 0.6000, Train Cost: 1.2238\tValid Acc: 0.5966, Valid Cost: 1.2481\n",
      "Epoch 55, CIFAR-10 Batch 2:  Train Acc: 0.6250, Train Cost: 0.9486\tValid Acc: 0.6038, Valid Cost: 1.2464\n",
      "Epoch 55, CIFAR-10 Batch 3:  Train Acc: 0.8000, Train Cost: 0.7887\tValid Acc: 0.6086, Valid Cost: 1.2395\n",
      "Epoch 55, CIFAR-10 Batch 4:  Train Acc: 0.6250, Train Cost: 1.1247\tValid Acc: 0.6064, Valid Cost: 1.2314\n",
      "Epoch 55, CIFAR-10 Batch 5:  Train Acc: 0.6500, Train Cost: 1.1206\tValid Acc: 0.5994, Valid Cost: 1.2461\n",
      "Epoch 56, CIFAR-10 Batch 1:  Train Acc: 0.6000, Train Cost: 1.2060\tValid Acc: 0.5938, Valid Cost: 1.2505\n",
      "Epoch 56, CIFAR-10 Batch 2:  Train Acc: 0.6750, Train Cost: 0.9481\tValid Acc: 0.5996, Valid Cost: 1.2572\n",
      "Epoch 56, CIFAR-10 Batch 3:  Train Acc: 0.8000, Train Cost: 0.7717\tValid Acc: 0.6036, Valid Cost: 1.2314\n",
      "Epoch 56, CIFAR-10 Batch 4:  Train Acc: 0.6000, Train Cost: 1.0823\tValid Acc: 0.6088, Valid Cost: 1.2316\n",
      "Epoch 56, CIFAR-10 Batch 5:  Train Acc: 0.6750, Train Cost: 1.1326\tValid Acc: 0.6046, Valid Cost: 1.2332\n",
      "Epoch 57, CIFAR-10 Batch 1:  Train Acc: 0.6000, Train Cost: 1.2064\tValid Acc: 0.5950, Valid Cost: 1.2502\n",
      "Epoch 57, CIFAR-10 Batch 2:  Train Acc: 0.6750, Train Cost: 0.9195\tValid Acc: 0.6046, Valid Cost: 1.2411\n",
      "Epoch 57, CIFAR-10 Batch 3:  Train Acc: 0.8250, Train Cost: 0.7689\tValid Acc: 0.6074, Valid Cost: 1.2343\n",
      "Epoch 57, CIFAR-10 Batch 4:  Train Acc: 0.6500, Train Cost: 1.1072\tValid Acc: 0.6090, Valid Cost: 1.2282\n",
      "Epoch 57, CIFAR-10 Batch 5:  Train Acc: 0.6500, Train Cost: 1.1255\tValid Acc: 0.6078, Valid Cost: 1.2296\n",
      "Epoch 58, CIFAR-10 Batch 1:  Train Acc: 0.6000, Train Cost: 1.2141\tValid Acc: 0.5976, Valid Cost: 1.2419\n",
      "Epoch 58, CIFAR-10 Batch 2:  Train Acc: 0.6750, Train Cost: 0.9236\tValid Acc: 0.6106, Valid Cost: 1.2340\n",
      "Epoch 58, CIFAR-10 Batch 3:  Train Acc: 0.7750, Train Cost: 0.7708\tValid Acc: 0.6016, Valid Cost: 1.2355\n",
      "Epoch 58, CIFAR-10 Batch 4:  Train Acc: 0.6250, Train Cost: 1.1302\tValid Acc: 0.6128, Valid Cost: 1.2271\n",
      "Epoch 58, CIFAR-10 Batch 5:  Train Acc: 0.6750, Train Cost: 1.1192\tValid Acc: 0.6044, Valid Cost: 1.2322\n",
      "Epoch 59, CIFAR-10 Batch 1:  Train Acc: 0.5750, Train Cost: 1.1974\tValid Acc: 0.5998, Valid Cost: 1.2425\n",
      "Epoch 59, CIFAR-10 Batch 2:  Train Acc: 0.6750, Train Cost: 0.9350\tValid Acc: 0.6048, Valid Cost: 1.2347\n",
      "Epoch 59, CIFAR-10 Batch 3:  Train Acc: 0.7750, Train Cost: 0.7587\tValid Acc: 0.6064, Valid Cost: 1.2313\n",
      "Epoch 59, CIFAR-10 Batch 4:  Train Acc: 0.6000, Train Cost: 1.1209\tValid Acc: 0.6126, Valid Cost: 1.2293\n",
      "Epoch 59, CIFAR-10 Batch 5:  Train Acc: 0.6750, Train Cost: 1.1274\tValid Acc: 0.6038, Valid Cost: 1.2309\n",
      "Epoch 60, CIFAR-10 Batch 1:  Train Acc: 0.6000, Train Cost: 1.1909\tValid Acc: 0.5978, Valid Cost: 1.2360\n",
      "Epoch 60, CIFAR-10 Batch 2:  Train Acc: 0.6750, Train Cost: 0.9322\tValid Acc: 0.6130, Valid Cost: 1.2285\n",
      "Epoch 60, CIFAR-10 Batch 3:  Train Acc: 0.8000, Train Cost: 0.7514\tValid Acc: 0.6050, Valid Cost: 1.2271\n",
      "Epoch 60, CIFAR-10 Batch 4:  Train Acc: 0.6000, Train Cost: 1.1086\tValid Acc: 0.6080, Valid Cost: 1.2307\n",
      "Epoch 60, CIFAR-10 Batch 5:  Train Acc: 0.6750, Train Cost: 1.0973\tValid Acc: 0.6028, Valid Cost: 1.2274\n",
      "Epoch 61, CIFAR-10 Batch 1:  Train Acc: 0.6000, Train Cost: 1.1578\tValid Acc: 0.6014, Valid Cost: 1.2356\n",
      "Epoch 61, CIFAR-10 Batch 2:  Train Acc: 0.6750, Train Cost: 0.9096\tValid Acc: 0.6116, Valid Cost: 1.2308\n",
      "Epoch 61, CIFAR-10 Batch 3:  Train Acc: 0.8000, Train Cost: 0.7477\tValid Acc: 0.6100, Valid Cost: 1.2197\n",
      "Epoch 61, CIFAR-10 Batch 4:  Train Acc: 0.6250, Train Cost: 1.1112\tValid Acc: 0.6102, Valid Cost: 1.2259\n",
      "Epoch 61, CIFAR-10 Batch 5:  Train Acc: 0.6750, Train Cost: 1.1242\tValid Acc: 0.6062, Valid Cost: 1.2191\n",
      "Epoch 62, CIFAR-10 Batch 1:  Train Acc: 0.6250, Train Cost: 1.1640\tValid Acc: 0.6042, Valid Cost: 1.2294\n",
      "Epoch 62, CIFAR-10 Batch 2:  Train Acc: 0.7250, Train Cost: 0.9029\tValid Acc: 0.6126, Valid Cost: 1.2294\n",
      "Epoch 62, CIFAR-10 Batch 3:  Train Acc: 0.8000, Train Cost: 0.7676\tValid Acc: 0.6072, Valid Cost: 1.2280\n",
      "Epoch 62, CIFAR-10 Batch 4:  Train Acc: 0.6250, Train Cost: 1.0958\tValid Acc: 0.6108, Valid Cost: 1.2160\n",
      "Epoch 62, CIFAR-10 Batch 5:  Train Acc: 0.6750, Train Cost: 1.1188\tValid Acc: 0.6048, Valid Cost: 1.2223\n",
      "Epoch 63, CIFAR-10 Batch 1:  Train Acc: 0.5750, Train Cost: 1.1764\tValid Acc: 0.6048, Valid Cost: 1.2312\n",
      "Epoch 63, CIFAR-10 Batch 2:  Train Acc: 0.7000, Train Cost: 0.9152\tValid Acc: 0.6136, Valid Cost: 1.2226\n",
      "Epoch 63, CIFAR-10 Batch 3:  Train Acc: 0.8250, Train Cost: 0.7429\tValid Acc: 0.6096, Valid Cost: 1.2192\n",
      "Epoch 63, CIFAR-10 Batch 4:  Train Acc: 0.6000, Train Cost: 1.1242\tValid Acc: 0.6104, Valid Cost: 1.2200\n",
      "Epoch 63, CIFAR-10 Batch 5:  Train Acc: 0.6500, Train Cost: 1.1179\tValid Acc: 0.6114, Valid Cost: 1.2201\n",
      "Epoch 64, CIFAR-10 Batch 1:  Train Acc: 0.6250, Train Cost: 1.1661\tValid Acc: 0.6038, Valid Cost: 1.2272\n",
      "Epoch 64, CIFAR-10 Batch 2:  Train Acc: 0.6500, Train Cost: 0.9287\tValid Acc: 0.6100, Valid Cost: 1.2221\n",
      "Epoch 64, CIFAR-10 Batch 3:  Train Acc: 0.8000, Train Cost: 0.7505\tValid Acc: 0.6088, Valid Cost: 1.2229\n",
      "Epoch 64, CIFAR-10 Batch 4:  Train Acc: 0.6000, Train Cost: 1.1422\tValid Acc: 0.6104, Valid Cost: 1.2240\n",
      "Epoch 64, CIFAR-10 Batch 5:  Train Acc: 0.6500, Train Cost: 1.0879\tValid Acc: 0.6050, Valid Cost: 1.2220\n",
      "Epoch 65, CIFAR-10 Batch 1:  Train Acc: 0.5750, Train Cost: 1.1630\tValid Acc: 0.6064, Valid Cost: 1.2177\n",
      "Epoch 65, CIFAR-10 Batch 2:  Train Acc: 0.6250, Train Cost: 0.9091\tValid Acc: 0.6120, Valid Cost: 1.2238\n",
      "Epoch 65, CIFAR-10 Batch 3:  Train Acc: 0.7500, Train Cost: 0.7488\tValid Acc: 0.6140, Valid Cost: 1.2217\n",
      "Epoch 65, CIFAR-10 Batch 4:  Train Acc: 0.5750, Train Cost: 1.1595\tValid Acc: 0.6042, Valid Cost: 1.2318\n",
      "Epoch 65, CIFAR-10 Batch 5:  Train Acc: 0.7000, Train Cost: 1.0890\tValid Acc: 0.6132, Valid Cost: 1.2117\n"
     ]
    }
   ],
   "source": [
    "\"\"\"\n",
    "DON'T MODIFY ANYTHING IN THIS CELL\n",
    "\"\"\"\n",
    "save_model_path = './image_classification'\n",
    "\n",
    "print('Training...')\n",
    "with tf.Session() as sess:\n",
    "    # Initializing the variables\n",
    "    sess.run(tf.global_variables_initializer())\n",
    "    \n",
    "    # Training cycle\n",
    "    for epoch in range(epochs):\n",
    "        # Loop over all batches\n",
    "        n_batches = 5\n",
    "        for batch_i in range(1, n_batches + 1):\n",
    "            for batch_features, batch_labels in helper.load_preprocess_training_batch(batch_i, batch_size):\n",
    "                train_neural_network(sess, optimizer, keep_probability, batch_features, batch_labels)\n",
    "            print('Epoch {:>2}, CIFAR-10 Batch {}:  '.format(epoch + 1, batch_i), end='')\n",
    "            print_stats(sess, batch_features, batch_labels, cost, accuracy)\n",
    "            \n",
    "    # Save Model\n",
    "    saver = tf.train.Saver()\n",
    "    save_path = saver.save(sess, save_model_path)"
   ]
  },
  {
   "cell_type": "markdown",
   "metadata": {
    "deletable": true,
    "editable": true
   },
   "source": [
    "# Checkpoint\n",
    "The model has been saved to disk.\n",
    "## Test Model\n",
    "Test your model against the test dataset.  This will be your final accuracy. You should have an accuracy greater than 50%. If you don't, keep tweaking the model architecture and parameters."
   ]
  },
  {
   "cell_type": "code",
   "execution_count": 93,
   "metadata": {
    "collapsed": false,
    "deletable": true,
    "editable": true
   },
   "outputs": [
    {
     "name": "stdout",
     "output_type": "stream",
     "text": [
      "Testing Accuracy: 0.60224609375\n",
      "\n"
     ]
    },
    {
     "data": {
      "image/png": "[encoded data removed]",
      "text/plain": [
       "<matplotlib.figure.Figure at 0x7f4dd71f0eb8>"
      ]
     },
     "metadata": {
      "image/png": {
       "height": 319,
       "width": 355
      }
     },
     "output_type": "display_data"
    }
   ],
   "source": [
    "\"\"\"\n",
    "DON'T MODIFY ANYTHING IN THIS CELL\n",
    "\"\"\"\n",
    "%matplotlib inline\n",
    "%config InlineBackend.figure_format = 'retina'\n",
    "\n",
    "import tensorflow as tf\n",
    "import pickle\n",
    "import helper\n",
    "import random\n",
    "\n",
    "# Set batch size if not already set\n",
    "try:\n",
    "    if batch_size:\n",
    "        pass\n",
    "except NameError:\n",
    "    batch_size = 64\n",
    "\n",
    "save_model_path = './image_classification'\n",
    "n_samples = 4\n",
    "top_n_predictions = 3\n",
    "\n",
    "def test_model():\n",
    "    \"\"\"\n",
    "    Test the saved model against the test dataset\n",
    "    \"\"\"\n",
    "\n",
    "    test_features, test_labels = pickle.load(open('preprocess_training.p', mode='rb'))\n",
    "    loaded_graph = tf.Graph()\n",
    "\n",
    "    with tf.Session(graph=loaded_graph) as sess:\n",
    "        # Load model\n",
    "        loader = tf.train.import_meta_graph(save_model_path + '.meta')\n",
    "        loader.restore(sess, save_model_path)\n",
    "\n",
    "        # Get Tensors from loaded model\n",
    "        loaded_x = loaded_graph.get_tensor_by_name('x:0')\n",
    "        loaded_y = loaded_graph.get_tensor_by_name('y:0')\n",
    "        loaded_keep_prob = loaded_graph.get_tensor_by_name('keep_prob:0')\n",
    "        loaded_logits = loaded_graph.get_tensor_by_name('logits:0')\n",
    "        loaded_acc = loaded_graph.get_tensor_by_name('accuracy:0')\n",
    "        \n",
    "        # Get accuracy in batches for memory limitations\n",
    "        test_batch_acc_total = 0\n",
    "        test_batch_count = 0\n",
    "        \n",
    "        for train_feature_batch, train_label_batch in helper.batch_features_labels(test_features, test_labels, batch_size):\n",
    "            test_batch_acc_total += sess.run(\n",
    "                loaded_acc,\n",
    "                feed_dict={loaded_x: train_feature_batch, loaded_y: train_label_batch, loaded_keep_prob: 1.0})\n",
    "            test_batch_count += 1\n",
    "\n",
    "        print('Testing Accuracy: {}\\n'.format(test_batch_acc_total/test_batch_count))\n",
    "\n",
    "        # Print Random Samples\n",
    "        random_test_features, random_test_labels = tuple(zip(*random.sample(list(zip(test_features, test_labels)), n_samples)))\n",
    "        random_test_predictions = sess.run(\n",
    "            tf.nn.top_k(tf.nn.softmax(loaded_logits), top_n_predictions),\n",
    "            feed_dict={loaded_x: random_test_features, loaded_y: random_test_labels, loaded_keep_prob: 1.0})\n",
    "        helper.display_image_predictions(random_test_features, random_test_labels, random_test_predictions)\n",
    "\n",
    "\n",
    "test_model()"
   ]
  },
  {
   "cell_type": "markdown",
   "metadata": {
    "deletable": true,
    "editable": true
   },
   "source": [
    "## Why 50-70% Accuracy?\n",
    "You might be wondering why you can't get an accuracy any higher. First things first, 50% isn't bad for a simple CNN.  Pure guessing would get you 10% accuracy. However, you might notice people are getting scores [well above 70%](http://rodrigob.github.io/are_we_there_yet/build/classification_datasets_results.html#43494641522d3130).  That's because we haven't taught you all there is to know about neural networks. We still need to cover a few more techniques.\n",
    "## Submitting This Project\n",
    "When submitting this project, make sure to run all the cells before saving the notebook.  Save the notebook file as \"dlnd_image_classification.ipynb\" and save it as a HTML file under \"File\" -> \"Download as\".  Include the \"helper.py\" and \"problem_unittests.py\" files in your submission."
   ]
  }
 ],
 "metadata": {
  "kernelspec": {
   "display_name": "Python 3",
   "language": "python",
   "name": "python3"
  },
  "language_info": {
   "codemirror_mode": {
    "name": "ipython",
    "version": 3
   },
   "file_extension": ".py",
   "mimetype": "text/x-python",
   "name": "python",
   "nbconvert_exporter": "python",
   "pygments_lexer": "ipython3",
   "version": "3.5.3"
  }
 },
 "nbformat": 4,
 "nbformat_minor": 0
}
